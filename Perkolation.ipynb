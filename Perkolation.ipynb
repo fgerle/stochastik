{
 "cells": [
  {
   "cell_type": "code",
   "execution_count": null,
   "id": "familiar-modification",
   "metadata": {},
   "outputs": [],
   "source": [
    "source(\"https://www.uni-due.de/~adf074w/Code/Percolation.R\")"
   ]
  },
  {
   "cell_type": "code",
   "execution_count": null,
   "id": "twenty-fabric",
   "metadata": {},
   "outputs": [],
   "source": [
    "N<-50\n",
    "\n",
    "plot.lattice(N,N+1, col=\"black\", lty=1, open=F)\n",
    "plot.lattice(N,N+1, col=\"darkgrey\", lty=1, open=F, add=T, dual=T)\n",
    "\n",
    "P <-create.percolation(N,N+1, p=1/2, open=F, boundary.l=1)\n",
    "\n",
    "plot.percolation(P, dual=F, col=\"blue\", open=F)\n",
    "\n",
    "C <- find.left.cluster(P)\n",
    "\n",
    "plot.percolation(cluster2edges(C,P), lattice=F, lattice.dual=F, add=T, col=\"blue\", lwd=2, open=F)\n",
    "\n",
    "connected <- check.connected.lr(C)\n",
    "\n",
    "P.dual <- create.percolation.dual(P, open=F, boundary.t=1)\n",
    "plot.percolation(P.dual, dual=T, lattice=F, lattice.dual=F, add=T, col=\"red\", open=F)\n",
    "C.dual <- find.top.cluster(P.dual)\n",
    "plot.percolation(cluster2edges(C.dual,P.dual), dual=T, lattice=F, lattice.dual=F, add=T, col=\"red\", lwd=2, open=F)\n",
    "connected.dual <- check.connected.tb(C.dual)"
   ]
  },
  {
   "cell_type": "code",
   "execution_count": null,
   "id": "unknown-information",
   "metadata": {},
   "outputs": [],
   "source": [
    "percolate <- function(N=10, p=1/2, draw=T, dual=F){\n",
    "  P <-create.percolation(N,N+1, p=p, open=F, boundary.l=1)\n",
    "  if(draw){\n",
    "    plot.percolation(P, dual=F, col=\"blue\", open=F)\n",
    "  }\n",
    "  C <- find.left.cluster(P)\n",
    "  if(draw){\n",
    "    plot.percolation(cluster2edges(C,P), lattice=F, lattice.dual=F, add=T, col=\"blue\", lwd=2, open=F)\n",
    "  }\n",
    "  connected <- check.connected.lr(C)\n",
    "  if (dual&&draw) {\n",
    "    P.dual <- create.percolation.dual(P, open=F, boundary.t=1)\n",
    "    plot.percolation(P.dual, dual=T, lattice=F, lattice.dual=F, add=T, col=\"red\", open=F)\n",
    "    C.dual <- find.top.cluster(P.dual)\n",
    "    plot.percolation(cluster2edges(C.dual,P.dual), dual=T, lattice=F, lattice.dual=F, add=T, col=\"red\", lwd=2, open=F)\n",
    "    connected.dual <- check.connected.tb(C.dual)\n",
    "  }\n",
    "  return(connected)\n",
    "}"
   ]
  },
  {
   "cell_type": "code",
   "execution_count": null,
   "id": "grateful-witness",
   "metadata": {},
   "outputs": [],
   "source": [
    "N <- 50\n",
    "p <- 0.45\n",
    "con <- NULL\n",
    "for(i in 1:10) {con <- c(con, percolate(N, p, draw=F))}"
   ]
  },
  {
   "cell_type": "code",
   "execution_count": null,
   "id": "comparative-differential",
   "metadata": {},
   "outputs": [],
   "source": [
    "par(mfrow = c(1,2))\n",
    "plot.lattice(N =10, K =11, col = \"black\", open = F)\n",
    "A <- new.percolation(N =10, K =11, lattice.dual = F, open = F)"
   ]
  },
  {
   "cell_type": "code",
   "execution_count": null,
   "id": "broad-dining",
   "metadata": {},
   "outputs": [],
   "source": [
    "par(mfrow = c(1,2))\n",
    "plot.lattice(N = 10, K = 11, col = \"blue\", open = F)\n",
    "plot.lattice(N = 10, K = 11, col = \"red\", open = F, dual = T, add = T)\n",
    "A <- new.percolation(N = 10, K = 11, lattice.dual = F, open = F)\n",
    "A.dual <- add.dual(A)"
   ]
  },
  {
   "cell_type": "code",
   "execution_count": null,
   "id": "sized-yukon",
   "metadata": {},
   "outputs": [],
   "source": []
  }
 ],
 "metadata": {
  "kernelspec": {
   "display_name": "R",
   "language": "R",
   "name": "ir"
  },
  "language_info": {
   "codemirror_mode": "r",
   "file_extension": ".r",
   "mimetype": "text/x-r-source",
   "name": "R",
   "pygments_lexer": "r",
   "version": "4.1.1"
  }
 },
 "nbformat": 4,
 "nbformat_minor": 5
}
