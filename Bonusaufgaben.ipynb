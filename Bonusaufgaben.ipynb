{
 "cells": [
  {
   "cell_type": "markdown",
   "id": "crucial-connectivity",
   "metadata": {},
   "source": [
    "# Lösungen zu den Bonusaufgaben"
   ]
  },
  {
   "cell_type": "markdown",
   "id": "precious-vintage",
   "metadata": {},
   "source": [
    "## Blatt 1"
   ]
  },
  {
   "cell_type": "code",
   "execution_count": null,
   "id": "posted-western",
   "metadata": {},
   "outputs": [],
   "source": [
    "# Wir füllen zunächst einen Vektor mit den Zahlen von 1 bis 10000\n",
    "a <- 1:10000\n",
    "\n",
    "# Mit Hilfe der Vergleichsoperatoren == und < generieren wir jeweils\n",
    "# einen Vektor mit boolschen Werten für jedes der drei gesuchten\n",
    "# Ereignisse.\n",
    "E1 <- a %% 7 == 0\n",
    "E2 <- a > 3000\n",
    "E3 <- sqrt(a) %% 1 == 0\n",
    "\n",
    "# Nun definieren wir Ereignisse F1,F2 und F3, die genau zwei der\n",
    "# Bedingungen E1,E2 und E3 erfüllen.\n",
    "F1 <- E1 & E2 & (!E3)\n",
    "F2 <- E1 & (!E2) & E3\n",
    "F3 <- (!E1) & E2 & E3\n",
    "\n",
    "# Abschlißen können wir uns nun mithilfe des sum Befehls die Anzahl\n",
    "# der Elemente berechnen lassen, die genau zwei der drei Bedingungen\n",
    "# erfüllen.\n",
    "Antwort <- sum(F1 ,F2 ,F3)\n",
    "print(sprintf(\"Es gibt %i Zahlen zwischen 1 und 10000, die genau zwei der Bedingungen erfüllen.\", Antwort))\n",
    "\n",
    "# Das Ergebnis ist 1039"
   ]
  },
  {
   "cell_type": "markdown",
   "id": "embedded-oakland",
   "metadata": {},
   "source": [
    "## Blatt 2"
   ]
  },
  {
   "cell_type": "code",
   "execution_count": null,
   "id": "magnetic-documentary",
   "metadata": {},
   "outputs": [],
   "source": [
    "# (a)\n",
    "N <- 1000:9999\n",
    "Z1 <- N%%10\n",
    "Z2 <- ((N-Z1)%%100)/10\n",
    "Z3 <- ((N-Z1-Z2*10)%%1000)/100\n",
    "Z4 <- (N-Z1-Z2*10-Z3*100)/1000\n",
    "P <- Z1*Z2*Z3*Z4\n",
    "S1 <- sum(P==420)\n",
    "print(S1)\n",
    "print(N[P==420])\n",
    "\n",
    "# (b)\n",
    "C <- combn(1:100, 3)\n",
    "D2 <- C%%2 == 0\n",
    "D5 <- C%%5 == 0\n",
    "T <- (D2[1,] | D2[2,] | D2[3,]) & (D5[1,] | D5[2,] | D5[3,])\n",
    "S2 <- sum(T)\n",
    "print(S2)\n",
    "\n",
    "### Clean Up\n",
    "rm(C, D2, D5, T, N, Z1, Z2, Z3, Z4, P)"
   ]
  },
  {
   "cell_type": "code",
   "execution_count": null,
   "id": "modern-compilation",
   "metadata": {},
   "outputs": [],
   "source": [
    "# Was genau macht der combn Befehl? Wir probieren aus:\n",
    "test <- combn(1:5, 3)\n",
    "print(test)\n",
    "print(test %% 2 == 0)"
   ]
  }
 ],
 "metadata": {
  "kernelspec": {
   "display_name": "R",
   "language": "R",
   "name": "ir"
  },
  "language_info": {
   "codemirror_mode": "r",
   "file_extension": ".r",
   "mimetype": "text/x-r-source",
   "name": "R",
   "pygments_lexer": "r",
   "version": "4.1.1"
  }
 },
 "nbformat": 4,
 "nbformat_minor": 5
}
