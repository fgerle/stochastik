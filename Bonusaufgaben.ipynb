{
 "cells": [
  {
   "cell_type": "markdown",
   "id": "crucial-connectivity",
   "metadata": {},
   "source": [
    "# Lösungen zu den Bonusaufgaben"
   ]
  },
  {
   "cell_type": "markdown",
   "id": "precious-vintage",
   "metadata": {},
   "source": [
    "## Blatt 1"
   ]
  },
  {
   "cell_type": "code",
   "execution_count": null,
   "id": "posted-western",
   "metadata": {},
   "outputs": [],
   "source": [
    "# Wir füllen zunächst einen Vektor mit den Zahlen von 1 bis 10000\n",
    "a <- 1:10000\n",
    "\n",
    "# Mit Hilfe der Vergleichsoperatoren == und < generieren wir jeweils\n",
    "# einen Vektor mit boolschen Werten für jedes der drei gesuchten\n",
    "# Ereignisse.\n",
    "E1 <- a %% 7 == 0\n",
    "E2 <- a > 3000\n",
    "E3 <- sqrt(a) %% 1 == 0\n",
    "\n",
    "# Nun definieren wir Ereignisse F1,F2 und F3, die genau zwei der\n",
    "# Bedingungen E1,E2 und E3 erfüllen.\n",
    "F1 <- E1 & E2 & (!E3)\n",
    "F2 <- E1 & (!E2) & E3\n",
    "F3 <- (!E1) & E2 & E3\n",
    "\n",
    "# Abschlißen können wir uns nun mithilfe des sum Befehls die Anzahl\n",
    "# der Elemente berechnen lassen, die genau zwei der drei Bedingungen\n",
    "# erfüllen.\n",
    "Antwort <- sum(F1 ,F2 ,F3)\n",
    "print(sprintf(\"Es gibt %i Zahlen zwischen 1 und 10000, die genau zwei der Bedingungen erfüllen.\", Antwort))\n",
    "\n",
    "# Das Ergebnis ist 1039"
   ]
  },
  {
   "cell_type": "markdown",
   "id": "embedded-oakland",
   "metadata": {},
   "source": [
    "## Blatt 2"
   ]
  },
  {
   "cell_type": "code",
   "execution_count": null,
   "id": "magnetic-documentary",
   "metadata": {},
   "outputs": [],
   "source": [
    "# (a)\n",
    "N <- 1000:9999\n",
    "Z1 <- N%%10\n",
    "Z2 <- ((N-Z1)%%100)/10\n",
    "Z3 <- ((N-Z1-Z2*10)%%1000)/100\n",
    "Z4 <- (N-Z1-Z2*10-Z3*100)/1000\n",
    "P <- Z1*Z2*Z3*Z4\n",
    "S1 <- sum(P==420)\n",
    "print(S1)\n",
    "print(N[P==420])\n",
    "\n",
    "# (b)\n",
    "C <- combn(1:100, 3)\n",
    "D2 <- C%%2 == 0\n",
    "D5 <- C%%5 == 0\n",
    "T <- (D2[1,] | D2[2,] | D2[3,]) & (D5[1,] | D5[2,] | D5[3,])\n",
    "S2 <- sum(T)\n",
    "print(S2)\n",
    "\n",
    "### Clean Up\n",
    "rm(C, D2, D5, T, N, Z1, Z2, Z3, Z4, P)"
   ]
  },
  {
   "cell_type": "code",
   "execution_count": null,
   "id": "modern-compilation",
   "metadata": {},
   "outputs": [],
   "source": [
    "# Was genau macht der combn Befehl? Wir probieren aus:\n",
    "test <- combn(1:5, 3)\n",
    "print(test)\n",
    "print(test %% 2 == 0)"
   ]
  },
  {
   "cell_type": "markdown",
   "id": "1fdf7b1c-b997-44ef-b5f6-3408c66887fe",
   "metadata": {},
   "source": [
    "## Blatt 3"
   ]
  },
  {
   "cell_type": "code",
   "execution_count": null,
   "id": "559bfa3a-9a59-471d-8843-b19b4e9f60b6",
   "metadata": {},
   "outputs": [],
   "source": [
    "## (a)\n",
    "# Als Erstes speichern wir die gegebenen Parameter in passenden Variablen\n",
    "N <- 1000\n",
    "praevalenz <- 2/100\n",
    "sensitivitaet <- 99/100\n",
    "spezifitaet <- 95/100\n",
    "\n",
    "# Nun generieren wir die Testgruppe und notieren ihren tatsächlichen\n",
    "# Gesundheitszustand.\n",
    "krank <- rbinom(N,1,praevalenz)\n",
    "\n",
    "# Dann generieren wir zwei Vektoren, die zufällige Testergebnisse von kranken\n",
    "# bzw. gesundne Personen enthalten.\n",
    "test.pos_krank <- rbinom(N,1,sensitivitaet)\n",
    "test.pos_gesund <- rbinom(N,1,1-spezifitaet)\n",
    "\n",
    "# Je nachdem, ob eine getestete Person gesund oder krank war wählen wir jetzt \n",
    "# das entsprechende Testergebnis aus den beiden Vektoren aus:\n",
    "test1 <- test.pos_krank*krank + test.pos_gesund*(1-krank)\n",
    "\n",
    "# Nun können wir einfach die Anzahl der falsch positiven und der\n",
    "# falsch negativen Tests zählen.\n",
    "test1.falsch_pos <- sum(test1[krank==0])\n",
    "test1.falsch_neg <- sum(1-test1[krank==1])\n",
    "\n",
    "# Mithilfe der sprintf Funktion formatieren wir einen kompletten Antwortsatz\n",
    "# und geben diesen aus\n",
    "res1 <- sprintf(\"(a) Von den %i Tests waren %i Tests falsch positiv und %i Tests falsch negativ.\",\n",
    "                N, test1.falsch_pos, test1.falsch_neg )\n",
    "print(res1)\n",
    "\n",
    "## (b)\n",
    "# Für den zweiten Durchgang notieren wir als erstes den Gesundheitszustand\n",
    "# derjenigen Patienten mit einem positiven Testresultat sowie deren Anzahl.\n",
    "test1.pos <- krank[test1==1]\n",
    "N2 <- length(test1.pos)\n",
    "\n",
    "# Nun generieren wir wieder zwei Listen mit Testergebnissen und wählen\n",
    "# aus diesen die entsprechenden aus\n",
    "test2.pos_krank <- rbinom(N2, 1, sensitivitaet)\n",
    "test2.pos_gesund <- rbinom(N2,1,1-spezifitaet)\n",
    "test2 <- test2.pos_krank*test1.pos + test2.pos_gesund*(1-test1.pos)\n",
    "\n",
    "# ... Und zählen die gesuchten falsch positiven bzw. falsch negativen Tests\n",
    "test2.falsch_pos <- sum(test2[test1.pos==0])\n",
    "test2.falsch_neg <- sum(1-test2[test1.pos==1])\n",
    "\n",
    "# Schließlich formulieren wir wieder einen Antwortsatz und geben diesen aus.\n",
    "res2 <- sprintf(\"(b) Von den %i im zweiten Durchgang durchgeführten Tests waren %i Tests falsch positiv und %i falsch negativ.\",\n",
    "                N2, test2.falsch_pos, test2.falsch_neg)\n",
    "print(res2)"
   ]
  },
  {
   "cell_type": "code",
   "execution_count": null,
   "id": "32e40995-de3c-4cf8-9715-40606fa434e7",
   "metadata": {},
   "outputs": [],
   "source": []
  }
 ],
 "metadata": {
  "kernelspec": {
   "display_name": "R",
   "language": "R",
   "name": "ir"
  },
  "language_info": {
   "codemirror_mode": "r",
   "file_extension": ".r",
   "mimetype": "text/x-r-source",
   "name": "R",
   "pygments_lexer": "r",
   "version": "4.1.1"
  }
 },
 "nbformat": 4,
 "nbformat_minor": 5
}
