{
 "cells": [
  {
   "cell_type": "markdown",
   "id": "finnish-atlas",
   "metadata": {},
   "source": [
    "# Lösungen zu den Bonusaufgaben"
   ]
  },
  {
   "cell_type": "markdown",
   "id": "front-pledge",
   "metadata": {},
   "source": [
    "## Blatt 1"
   ]
  },
  {
   "cell_type": "code",
   "execution_count": null,
   "id": "removed-algeria",
   "metadata": {},
   "outputs": [],
   "source": [
    "# Wir füllen zunächst einen Vektor mit den Zahlen von 1 bis 10000\n",
    "a <- 1:10000\n",
    "\n",
    "# Mit Hilfe der Vergleichsoperatoren == und < generieren wir jeweils\n",
    "# einen Vektor mit boolschen Werten für jedes der drei gesuchten\n",
    "# Ereignisse.\n",
    "E1 <- a %% 7 == 0\n",
    "E2 <- a > 3000\n",
    "E3 <- sqrt(a) %% 1 == 0\n",
    "\n",
    "# Nun definieren wir Ereignisse F1,F2 und F3, die genau zwei der\n",
    "# Bedingungen E1,E2 und E3 erfüllen.\n",
    "F1 <- E1 & E2 & (!E3)\n",
    "F2 <- E1 & (!E2) & E3\n",
    "F3 <- (!E1) & E2 & E3\n",
    "\n",
    "# Abschlißen können wir uns nun mithilfe des sum Befehls die Anzahl\n",
    "# der Elemente berechnen lassen, die genau zwei der drei Bedingungen\n",
    "# erfüllen.\n",
    "Antwort <- sum(F1 ,F2 ,F3)\n",
    "print(sprintf(\"Es gibt %i Zahlen zwischen 1 und 10000, die genau zwei der Bedingungen erfüllen.\", Antwort))\n",
    "\n",
    "# Das Ergebnis ist 1039"
   ]
  },
  {
   "cell_type": "code",
   "execution_count": null,
   "id": "quick-landscape",
   "metadata": {},
   "outputs": [],
   "source": []
  }
 ],
 "metadata": {
  "kernelspec": {
   "display_name": "R",
   "language": "R",
   "name": "ir"
  },
  "language_info": {
   "codemirror_mode": "r",
   "file_extension": ".r",
   "mimetype": "text/x-r-source",
   "name": "R",
   "pygments_lexer": "r",
   "version": "4.1.1"
  }
 },
 "nbformat": 4,
 "nbformat_minor": 5
}
