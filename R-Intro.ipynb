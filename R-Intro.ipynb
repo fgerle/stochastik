{
 "cells": [
  {
   "cell_type": "markdown",
   "id": "original-channel",
   "metadata": {},
   "source": [
    "# Einführung in R\n",
    "### Grundlagenmodul Stochastik Wintersemester 2021/22\n"
   ]
  },
  {
   "cell_type": "markdown",
   "id": "beneficial-observer",
   "metadata": {},
   "source": [
    "## Was ist R\n",
    "- R ist eine freie Programmiersprache für statistisches Rechnen und statistische Grafiken. Es eignet sich besonders um große Datenmengen zu untersuchen (bzw. mit ihnen zu arbeiten) und die Daten mit Grafiken zu visualisieren.\n",
    "- R ist mittlerweile eines der wichtigsten Statistik-Programme, neben SAS und SPSS.\n",
    "- R basiert auf der Programmiersprache S und ist mit dieser weitgehend kompatibel."
   ]
  },
  {
   "cell_type": "markdown",
   "id": "above-overview",
   "metadata": {},
   "source": [
    "## Installation\n",
    "- Programmdateien für Windows, Mac und Linux \n",
    "https://cran.r-project.org/\n",
    "- R-Studio für Windows, Mac und Linux https://rstudio.com/products/rstudio/download/#download\n",
    "\n",
    "## Online Versionen ohne Installation\n",
    "- Hier, jupyterhub der Uni\n",
    "- R-Studio Cloud http://rstudio.cloud"
   ]
  },
  {
   "cell_type": "markdown",
   "id": "separate-abortion",
   "metadata": {},
   "source": [
    "## Verwendung von JupyterHub\n",
    "### Starten der interaktiven R-Konsole\n",
    "- File -> New -> Terminal\n",
    "- R (ENTER)\n",
    "\n",
    "```\n",
    "R version 4.1.1 (2021-08-10) -- \"Kick Things\"\n",
    "Copyright (C) 2021 The R Foundation for Statistical Computing\n",
    "Platform: x86_64-pc-linux-gnu (64-bit)\n",
    "\n",
    "R ist freie Software und kommt OHNE JEGLICHE GARANTIE.\n",
    "Sie sind eingeladen, es unter bestimmten Bedingungen weiter zu verbreiten.\n",
    "Tippen Sie 'license()' or 'licence()' für Details dazu.\n",
    "\n",
    "R ist ein Gemeinschaftsprojekt mit vielen Beitragenden.\n",
    "Tippen Sie 'contributors()' für mehr Information und 'citation()',\n",
    "um zu erfahren, wie R oder R packages in Publikationen zitiert werden können.\n",
    "\n",
    "Tippen Sie 'demo()' für einige Demos, 'help()' für on-line Hilfe, oder\n",
    "'help.start()' für eine HTML Browserschnittstelle zur Hilfe.\n",
    "Tippen Sie 'q()', um R zu verlassen.\n",
    "\n",
    "> \n",
    "```\n",
    "### Verwenden von Notebooks\n",
    "> Jupyter bietet die Möglichkeit, mit Notebooks (wie diesem) zu arbeiten.\n",
    "\n",
    "#### Ein neues Notebook anlegen\n",
    "- Auf der linken Seite sehen Sie eine Liste mit den Dateien, die in Ihrem Benutzerverzeichnis existieren.\n",
    "- Um ein neues Notebook anzulegen, klicken Sie links oben auf die blaue Schaltfläche mit dem **+**.\n",
    "- Wählen Sie dann unter *Notebooks* **R**.\n",
    "\n",
    "#### Mit Notebooks arbeiten\n",
    "- Ein Notebook besteht aus *Zellen*.\n",
    "- Zellen können entweder Code (also R Befehle) oder Text (Markdown) enthalten.\n",
    "- Zellen können innerhalb des Notebooks verschoben werden.\n",
    "- Um den Code in einer Zelle auszuführen, verwenden Sie das \"Play\" Symbol (Dreieck) oder die Tastenkombination `Shift+Enter`\n",
    "- Markdown Zellen (wie diese) werden dann für die Ansicht formatiert (um die Zelle wieder bearbeiten zu können genügt ein Doppelklick in die Zelle).\n",
    "- Code Zellen werden ausgeführt und das Resultat der Berechnung unterhalb der Zelle angezeigt.\n",
    "\n",
    "#### Unten folgt ein Beispiel einer Zelle mit R-Code\n"
   ]
  },
  {
   "cell_type": "code",
   "execution_count": 1,
   "id": "listed-edgar",
   "metadata": {},
   "outputs": [
    {
     "data": {
      "text/html": [
       "4"
      ],
      "text/latex": [
       "4"
      ],
      "text/markdown": [
       "4"
      ],
      "text/plain": [
       "[1] 4"
      ]
     },
     "metadata": {},
     "output_type": "display_data"
    }
   ],
   "source": [
    "2+2"
   ]
  },
  {
   "cell_type": "markdown",
   "id": "dying-alliance",
   "metadata": {},
   "source": [
    "### Besonderheiten der Ausgabe bei Jupyter Notebooks\n",
    "Um in Jupyter Notebooks eine Ausgabe wie in der R Konsole oder in R Studio zu bekommen, müssen wir die Ausgabe explizit mit dem Befehl `print(...)` aufrufen"
   ]
  },
  {
   "cell_type": "code",
   "execution_count": 2,
   "id": "aggregate-omega",
   "metadata": {},
   "outputs": [
    {
     "name": "stdout",
     "output_type": "stream",
     "text": [
      "[1] 4\n"
     ]
    }
   ],
   "source": [
    "print(2+2)"
   ]
  },
  {
   "cell_type": "markdown",
   "id": "unavailable-investigation",
   "metadata": {},
   "source": [
    "# Verwendung von R\n",
    "Im Wesentlichen werden wir R in dieser Vorlesung als (mächtigen) Taschenrechner verwenden.\n",
    "\n",
    "## Rechnen mit R\n",
    " Die wichtigsten mathematische Rechenoperationen in R sind\n",
    "*   `+ ` Plus\n",
    "*   `- ` Minus\n",
    "*   `* ` Mal\n",
    "*   `/ ` Geteilt\n",
    "*   `^ ` Hoch\n",
    "*   `%%` Modulo (Rest bei ganzzahliger Division)\n",
    "\n",
    "Das Dezimaltrennzeichen ist der Punkt (englische Schreibweise), nicht das Komma!\n",
    "\n",
    "Es gilt Punkt- vor Strichrechnung. Die Rechenreihenfolge kann aber mit runden Klammern beeinflusst werden."
   ]
  },
  {
   "cell_type": "code",
   "execution_count": null,
   "id": "knowing-clear",
   "metadata": {},
   "outputs": [],
   "source": [
    "# Beispiele\n",
    "2+3\n",
    "2+3-7\n",
    "2*2\n",
    "2*2+3\n",
    "2*(2+3)\n",
    "2^2\n",
    "3/2\n",
    "5%%2"
   ]
  },
  {
   "cell_type": "markdown",
   "id": "spread-polymer",
   "metadata": {},
   "source": [
    "## Kommentare in R\n",
    "Innerhalb von Code-Zellen können Kommentare mit einer Raute `#` eingeleitet werden. Alles, was auf `#` folgt, wird von R nicht gelesen und dient nur dazu, den Code zu erklären (zu kommentieren).\n",
    "\n",
    "## Datentypen in R\n",
    "Es gibt in R verschiedene Datentypen, für uns wichtig sind\n",
    "\n",
    "*   Zahlen *numeric* `-1`, `3.14`, `1.224e-6`\n",
    "    - `1.224e-6` steht für die Gleitkommazahl 1,224*10^(-6) = 0,000001224. (Das `e` steht für Exponent)\n",
    "*   Wahrheitswerte *logical* `TRUE`, `T`, `FALSE`, `F`\n",
    "    - Wahrheitswerte können nur die Werte Wahr `TRUE` und Falsch `FALSE` annehmen. Abgekürzt werden diese Werte durch `T` und `F` oder `1` und `0`.\n",
    "    - Aufgabe: Was ist `TRUE + TRUE`?\n",
    "*   Zeichenketten *character* `\"a\"`, `\"X_1\"`\n",
    "    - Zeichenketten stehen immer in Anführungszeichen. Erlaubt sind alle Buchstaben, Zahlen und Sonderzeichen.\n",
    "\n",
    "## Logik-  und Vergleichsoperatoren\n",
    "### Logische Operatoren\n",
    "Logische Operatoren operieren immer auf Wahrheitswerten und liefern einen Wahrheitswert zurück.\n",
    "*  `!` Negation\n",
    "*  `&` Und\n",
    "*  `|` Oder\n",
    "\n",
    "### Vergleichsoperatoren\n",
    "Vergleichsoperatoren können auf verschiedene Datentypen angewendet werden und liefern Wahrheitswerte zurück.\n",
    "*  `==` Gleich\n",
    "*  `!=` Ungleich\n",
    "*  `>`, `<` Größer bzw. Kleiner\n",
    "* `>=`, `<=` Größergleich bzw. Kleinergleich\n",
    "\n",
    "\n",
    "    "
   ]
  },
  {
   "cell_type": "code",
   "execution_count": null,
   "id": "pretty-pipeline",
   "metadata": {},
   "outputs": [],
   "source": [
    "T|F\n",
    "T&F\n",
    "!F\n",
    "!(T|F)\n",
    "2 <= 4\n",
    "2 <= 2\n",
    "2 < 2\n",
    "(5%%2) == 0"
   ]
  },
  {
   "cell_type": "markdown",
   "id": "complete-license",
   "metadata": {},
   "source": [
    "## Der Zuweisungsoperator\n",
    "Mit dem Zuweisungsoperator `<-` (bzw. `->`) werden Werte in Variablen gespeichert. Existiert eine Variable noch nicht, so wird sie erzeugt"
   ]
  },
  {
   "cell_type": "code",
   "execution_count": null,
   "id": "stock-sample",
   "metadata": {},
   "outputs": [],
   "source": [
    "x <- 2+3\n",
    "20 -> y\n",
    "x\n",
    "y"
   ]
  },
  {
   "cell_type": "code",
   "execution_count": null,
   "id": "lightweight-transcription",
   "metadata": {},
   "outputs": [],
   "source": [
    "# Gespeicherte Variablen können einfach überschrieben werden:\n",
    "x <- 3.14\n",
    "x"
   ]
  },
  {
   "cell_type": "markdown",
   "id": "binary-democracy",
   "metadata": {},
   "source": [
    "## Variablen \n",
    "Erlaubt sind alle Variablennamen, die\n",
    "- nur aus Groß- und Kleinbuchstaben, Zahlen und den Zeichen `_` und `.` bestehen und\n",
    "- mit einem Buchstaben anfangen\n",
    "\n",
    "Zum Beispiel `xyz`, `Xyz`, `Variable.1`, `Neue_Variable`\n",
    "\n",
    "Es wird zwischen Groß- und Kleinschreibung unterschieden, das heißt `xyz` und `Xyz` sind verschiedene Variablen.\n",
    "\n",
    "Mit Variablen kann man genauso rechnen wie mit Zahlen:"
   ]
  },
  {
   "cell_type": "code",
   "execution_count": null,
   "id": "indirect-examination",
   "metadata": {},
   "outputs": [],
   "source": [
    "x - 0.14\n",
    "x - 3\n",
    "x <- x-0.14\n",
    "x"
   ]
  },
  {
   "cell_type": "markdown",
   "id": "cordless-coordinator",
   "metadata": {},
   "source": [
    "## Der Workspace\n",
    "Alle Objekte, die während einer R-Sitzung erzeugt werden, landen im *Workspace*.\n",
    "\n",
    "- mit dem Befehl `ls()` kann man sich alle Objekte anzeigen lassen, die derzeit im Workspace vorhanden sind.\n",
    "- mit `rm()` löscht man ein Objekt aus dem Workspace"
   ]
  },
  {
   "cell_type": "code",
   "execution_count": null,
   "id": "conceptual-messenger",
   "metadata": {},
   "outputs": [],
   "source": [
    "v1 <- 3^2\n",
    "ls()\n",
    "rm(v1)\n",
    "ls()"
   ]
  },
  {
   "cell_type": "markdown",
   "id": "choice-novel",
   "metadata": {},
   "source": [
    "- In R-Studio wird der Workspace in einem eigenen Fenster angezeigt.\n",
    "- Am Ende einer interaktiven R-Sitzung kann man den Workspace speichern. Dies ist\n",
    "    nützlich wenn man später nochmal mit den erzeugten Objekten/Daten\n",
    "    weiterarbeiten will.\n",
    "- Vorsicht bei der Verwendung von Notebooks! Hier Wenn auf eine Variable zugegriffen werden soll, muss diese bereits im Workspace existieren. Die entsprechende Zelle, in der die Variable erzeugt wird, muss also vorher ausgeführt worden sein."
   ]
  },
  {
   "cell_type": "code",
   "execution_count": null,
   "id": "static-double",
   "metadata": {},
   "outputs": [],
   "source": [
    "# Diese Zelle führt bei mehrfacher Ausführung zu einem Fehler\n",
    "rm(y)"
   ]
  },
  {
   "cell_type": "markdown",
   "id": "perceived-assist",
   "metadata": {},
   "source": [
    "## Das Hilfesystem\n",
    "R verfügt über ein umfangreiches Hilfesystem. Um Hilfe zu einzelnen\n",
    "Stichpunkten zu bekommen, benutzt man `?` oder `help()`\n",
    "\n",
    "Zum Beispiel wird mit den Befehlen `sqrt` oder `help(sqrt)`\n",
    "die Hilfeseite zur Wurzelfunktion `sqrt()` angezeigt.\n",
    "\n",
    "Bei Stichpunkten mit Sonderzeichen muss man Anführungszeichen\n",
    "verwenden. So wird z.B. mit `?\"<-\"` oder `help(\"<-\")` die\n",
    "Hilfeseite zum Zuweisungsoperator `<-` angezeigt (während\n",
    "`?<-` nicht funktioniert).\n",
    "\n",
    "In der derzeitigen R-Version gibt es ein Problem mit der Formatierung der Hilfeseiten, das zu einem Fehler führt. Das Problem ist bekannt und soll bald behoben werden. Verwenden Sie bis dahin besser eine interaktive R-Konsole (File > New > Terminal R (ENTER)) um auf die Hilfefunktion zu zugreifen. Die Hilfeseite wird mit `q` wieder geschlossen.\n"
   ]
  },
  {
   "cell_type": "code",
   "execution_count": null,
   "id": "residential-heading",
   "metadata": {},
   "outputs": [],
   "source": [
    "help(sqrt)"
   ]
  },
  {
   "cell_type": "markdown",
   "id": "confirmed-financing",
   "metadata": {},
   "source": [
    "## Standard Datensätze\n",
    "Als Statistik Software verfügt R über eine Fülle von Standard-Datensätzen. Eine Liste aller Datensätze\n",
    "erhält man mit dem Befehl `data()`.\n",
    "\n",
    "Zu den einzelnen Datensätzen gibt es auch jeweils eine Hilfe-Seite\n",
    "über die Art der Daten. Zum Beispiel `?sleep`."
   ]
  },
  {
   "cell_type": "code",
   "execution_count": null,
   "id": "editorial-invite",
   "metadata": {},
   "outputs": [],
   "source": [
    "data()"
   ]
  },
  {
   "cell_type": "markdown",
   "id": "measured-convention",
   "metadata": {},
   "source": [
    "## Datenstrukturen in R\n",
    "Wichtige Datenstrukturen in R sind\n",
    "- Vektoren\n",
    "- Matrizen\n",
    "- Data Frames\n",
    "\n",
    "### Vektoren\n",
    "  Die grundlegenste Datenstruktur in R sind Vektoren. Ein Vektor ist\n",
    "  eine Liste von Elementen *des gleichen Datentyps*. Mit dem\n",
    "  Befehl `c()` verknüpft man Elemente zu einem Vektor:"
   ]
  },
  {
   "cell_type": "code",
   "execution_count": null,
   "id": "incredible-scottish",
   "metadata": {},
   "outputs": [],
   "source": [
    "A <- c(1, 3, 3.14)\n",
    "print(A)\n",
    "B <- c(\"Apfel\", \"Birne\", \"bla\")\n",
    "print(B)\n",
    "C <- c(B, A)\n",
    "print(C)"
   ]
  },
  {
   "cell_type": "markdown",
   "id": "humanitarian-hamilton",
   "metadata": {},
   "source": [
    "Um an einzelnen Elemente eines Vektors zu kommen, benutzt man eckige Klammern zur Indizierung:"
   ]
  },
  {
   "cell_type": "code",
   "execution_count": null,
   "id": "polyphonic-california",
   "metadata": {},
   "outputs": [],
   "source": [
    "A[1]\n",
    "A[1]-A[2]"
   ]
  },
  {
   "cell_type": "markdown",
   "id": "optimum-dating",
   "metadata": {},
   "source": [
    "Mit dem Doppelpunkt erzeugt man einfache numerische Vektoren mit aufsteigenden oder absteigenden Einträgen:"
   ]
  },
  {
   "cell_type": "code",
   "execution_count": null,
   "id": "southeast-tract",
   "metadata": {},
   "outputs": [],
   "source": [
    "1:9\n",
    "5:-3"
   ]
  },
  {
   "cell_type": "markdown",
   "id": "satellite-avenue",
   "metadata": {},
   "source": [
    "Der Befehl `seq()` erzeugt einen Vektor mit vorgegebenen Parametern zum Beispiel Schrittweite (`by=`) oder Länge (`length.out=`)"
   ]
  },
  {
   "cell_type": "code",
   "execution_count": null,
   "id": "corresponding-animal",
   "metadata": {},
   "outputs": [],
   "source": [
    "seq(from=1, to=10, by=2)\n",
    "seq(from=10, by=3, length.out = 7)"
   ]
  },
  {
   "cell_type": "markdown",
   "id": "provincial-address",
   "metadata": {},
   "source": [
    "Mit dem Befehl `rep()` wird ein Vektor mit sich wiederholenden Einträgen erzeugt:"
   ]
  },
  {
   "cell_type": "code",
   "execution_count": null,
   "id": "incorporated-motorcycle",
   "metadata": {},
   "outputs": [],
   "source": [
    "rep(1, times = 10)\n",
    "x <- c(1,2)\n",
    "rep(x, times = 5)\n",
    "rep(x, length.out = 5)"
   ]
  },
  {
   "cell_type": "markdown",
   "id": "sudden-joshua",
   "metadata": {},
   "source": [
    "### Matrizen\n",
    " Matrizen können als *2-dimensionale Vektoren* oder als Tabellen\n",
    "  angesehen werden. Wie bei Vektoren müssen alle Elemente den selben\n",
    "  Datentyp haben.\n",
    "\n",
    "\n",
    "  Matrizen erzeugt man mit `matrix()`, `rbind()` oder `cbind()`.\n",
    "  "
   ]
  },
  {
   "cell_type": "code",
   "execution_count": null,
   "id": "informational-following",
   "metadata": {},
   "outputs": [],
   "source": [
    "M1 <- matrix(1:6, ncol=2)\n",
    "print(M1)"
   ]
  },
  {
   "cell_type": "markdown",
   "id": "declared-contractor",
   "metadata": {},
   "source": [
    "Als ersten Argument werden die Elemente als Vektor (!) angegeben, in\n",
    "diesem Fall der Vektor mit den Einträgen 1 bis 6. Danach werden mit\n",
    "`ncol=...` die Anzahl der Spalten gewählt (stattdessen kann man\n",
    "auch mit `nrow=...` die Anzahl der Zeilen wählen.)\n",
    "\n",
    "Mit `cbind()` und `rbind()` werden Vektoren zu einer Matrix \"zusammengeklebt¨ (`cbind` wie *column bind*, `rbind` wie *row bind*)"
   ]
  },
  {
   "cell_type": "code",
   "execution_count": null,
   "id": "synthetic-complement",
   "metadata": {},
   "outputs": [],
   "source": [
    "M2 <- cbind( c(1,2,3), c(4, 5, 6) )\n",
    "M3 <- rbind( c(1,4), c(2,5), c(3,6))\n",
    "print(M2)\n",
    "print(M3)"
   ]
  },
  {
   "cell_type": "markdown",
   "id": "bound-individual",
   "metadata": {},
   "source": [
    "  Um auf einzelne Elemente, Zeilen oder Spalten zugreifen zu können, verwendet man wieder eckige Klammern:"
   ]
  },
  {
   "cell_type": "code",
   "execution_count": null,
   "id": "challenging-incentive",
   "metadata": {},
   "outputs": [],
   "source": [
    "M1[1,2]\n",
    "M1[2,1]\n",
    "M1[1,]\n",
    "M1[,1]"
   ]
  },
  {
   "cell_type": "markdown",
   "id": "boolean-forum",
   "metadata": {},
   "source": [
    "Mit Data Frames können Vektoren verschiedenen Typs zu einer Tabelle zusammengefügt werden. Die Vektoren müssen dabei alle dieselbe Länge haben. Beispiele für Data Frames sind die Datensätze `sleep` oder `iris`."
   ]
  },
  {
   "cell_type": "code",
   "execution_count": null,
   "id": "proved-amount",
   "metadata": {},
   "outputs": [],
   "source": [
    "sleep"
   ]
  },
  {
   "cell_type": "markdown",
   "id": "intensive-index",
   "metadata": {},
   "source": [
    "Um auf eine einzelne Spalte eines Data Frames zugreifen zu können, benutzt man das `$`-Zeichen. Zum Beispiel erhält man mit\n",
    "  `sleep$extra` die Spalte (bzw. den Vektor) mit dem Namen `extra` aus dem Data Frame `sleep`.\n",
    "\n",
    "Mit dem Befehl `attach(...)` wird ein Datensatz in den Suchpfad eingehängt. Zum Beispiel kann man nach Eingabe von `attach(sleep)` direkt mit dem Befehl `extra` auf  `sleep$extra` zugreifen. Mit `detach(sleep)` entfernt man den Datensatz wieder vom Suchpfad."
   ]
  },
  {
   "cell_type": "markdown",
   "id": "looking-words",
   "metadata": {},
   "source": [
    "## Rechnen mit Vektoren\n",
    " Die meisten Operationen mit Vektoren werden von R **komponentenweise** ausgewertet\n",
    " "
   ]
  },
  {
   "cell_type": "code",
   "execution_count": null,
   "id": "retired-color",
   "metadata": {},
   "outputs": [],
   "source": [
    "x <- 1:10\n",
    "x + 1\n",
    "x * 2\n",
    "x %% 3\n",
    "x <= 5\n",
    "y <- c(5,11)\n",
    "x*y\n",
    "(x%%2)==0"
   ]
  },
  {
   "cell_type": "markdown",
   "id": "close-profession",
   "metadata": {},
   "source": [
    "## Funktionen für Vektoren\n",
    "Wichtige Funktionen im Umgang mit Vektoren\n",
    "- `length(x)` Anzahl der Einträge von x\n",
    "- `sum(x)` Summe der Einträge von x\n",
    "- `prod(x)` Produkt der Einträge von x\n",
    "- `min(x)`, `max(x)` Minimum bzw. Maximum der Einträge von x\n",
    "- `cumsum(x)`, `cumprod(x)` Kumulative Summe bzw. Produkt der Einträge von x\n",
    "- `sort(x)` Aufsteigend sortierter Vektor x"
   ]
  },
  {
   "cell_type": "code",
   "execution_count": null,
   "id": "spectacular-philosophy",
   "metadata": {},
   "outputs": [],
   "source": [
    "length(x)\n",
    "sum(x)\n",
    "sum((x%%2))\n",
    "prod(1:5)\n",
    "cumsum(1:10)"
   ]
  },
  {
   "cell_type": "markdown",
   "id": "operating-graduate",
   "metadata": {},
   "source": [
    "**Beachte** Bei Rechenoperationen wird der Wahrheitswert `TRUE`\n",
    "als `1` und der Wahrheitswert `FALSE` als `0` interpretiert."
   ]
  },
  {
   "cell_type": "markdown",
   "id": "qualified-antarctica",
   "metadata": {},
   "source": [
    " ## Funktionen\n",
    " Wir haben schon verschiedene Funktionen von R benutzt:\n",
    " \n",
    "  `c(...)`, `ls()`, `rm(...)`, `matrix(...)` etc.\n",
    "  \n",
    "  Eine Funktion wird *immer* mit ihrem Namen gefolgt von runden Klammern\n",
    "  aufgerufen. In den runden Klammern stehen dann die Argumente\n",
    "  (getrennt durch Kommata), die an die Funktion übergeben werden\n",
    "  sollen. Die Klammern sind auch nötig, wenn keine Argumente übergeben werden!\n",
    "  \n",
    "  Viele mathematischen Funktionen arbeiten komponentenweise, wenn man\n",
    "  ihnen als Argument einen Vektor übergibt."
   ]
  },
  {
   "cell_type": "code",
   "execution_count": null,
   "id": "romantic-modeling",
   "metadata": {},
   "outputs": [],
   "source": [
    "sqrt(9)\n",
    "sqrt(c(2,4,9))"
   ]
  },
  {
   "cell_type": "markdown",
   "id": "laden-wells",
   "metadata": {},
   "source": [
    "Schaut man in die Hilfe mit `sqrt`, so sieht man:\n",
    "```\n",
    "Usage:\n",
    "\n",
    "      sqrt(x)\n",
    "     \n",
    "Arguments:\n",
    "\n",
    "       x: a numeric or ‘complex’ vector or array.\n",
    "```\n",
    "Das heißt, der Befehl `sqrt` wird mit genau einem Argument\n",
    "aufgerufen. Dieses Argument wird funktionsintern `x` genannt. Man\n",
    "kann `sqrt` daher auch so benutzen\n"
   ]
  },
  {
   "cell_type": "code",
   "execution_count": null,
   "id": "considered-listening",
   "metadata": {},
   "outputs": [],
   "source": [
    "sqrt(x=9)"
   ]
  },
  {
   "cell_type": "markdown",
   "id": "separate-involvement",
   "metadata": {},
   "source": [
    "Dies kann bei Funktionen mit mehreren Argumenten sinnvoll sein. Die Hilfe von `matrix` ergibt\n",
    "```\n",
    "Usage:\n",
    "\n",
    "     matrix(data = NA, nrow = 1, ncol = 1, byrow = FALSE,\n",
    "            dimnames = NULL)\n",
    "```\n",
    "Der Befehl `matrix` kann also mit 5 verschiedenen Argumenten\n",
    "aufgerufen werden: `data`, `nrow`, `ncol`, etc.\n",
    "\n",
    "In diesem Fall haben alle Argumente Voreinstellungen (z.B.\n",
    "`nrow = 1`), welche benutzt werden, falls man die Funktion ohne\n",
    "diese Argumente aufruft.\n",
    "\n",
    "Zum Beispiel werden bei der Eingabe von `matrix(data = 1:6 )`\n",
    "automatisch die Voreinstellungen für die anderen Argumente ergänzt:"
   ]
  },
  {
   "cell_type": "code",
   "execution_count": null,
   "id": "square-straight",
   "metadata": {},
   "outputs": [],
   "source": [
    "matrix(data = 1:6)"
   ]
  },
  {
   "cell_type": "markdown",
   "id": "acknowledged-biotechnology",
   "metadata": {},
   "source": [
    "Wird der Name der Funktionsargumente mit angegeben, so ist die\n",
    "  Reihenfolge egal: `matrix( nrow=3, data=1:6 )` ergibt das\n",
    "  gleiche Ergebnis wie `matrix( data=1:6, nrow=3 )`.\n",
    "  \n",
    "  Wird der Name eines oder mehrerer Argumente nicht mit angegeben, so\n",
    "  versucht R, sie der Reihe nach zuzuordnen: `matrix( 1:6, 3 )`,\n",
    "  `matrix( data=1:6, nrow=3 )` und `matrix( data=1:6, 3 )`\n",
    "  liefern alle das gleiche Ergebnis."
   ]
  },
  {
   "cell_type": "markdown",
   "id": "pleased-mandate",
   "metadata": {},
   "source": [
    "## Mathematische Funktionen\n",
    "  Einige wichtige mathematische Funktionen\n",
    "  -    `sqrt(x)` $\\sqrt{x}$\n",
    "  -    `factorial(n)` $n!$\n",
    "  -    `choose(n,k)` $n\\choose k$\n",
    "  -    `sin(x)`, `cos(x)`, `tan(x)` trigonometrische Funktionen\n",
    "  -    `asin(x)`, `acos(x)`, `atan(x)` inverse trigonometrische Funktionen\n",
    "  -    `abs(x)` Betrag von $x$\n",
    "  -    `exp(x)` $e^{x}$\n",
    "  -    `log(x)` natürlicher Logarithmus von $x$\n",
    "  -    `log10(x)` dekadischer Logarithmus von $x$\n",
    "  -    `round(x,3)` rundet $x$ auf 3 Stelle"
   ]
  },
  {
   "cell_type": "markdown",
   "id": "little-anthropology",
   "metadata": {},
   "source": [
    "## Zufall mit R\n",
    " R hat viele Wahrscheinlichkeitsverteilungen \"eingebaut\".\n",
    "\n",
    "Hier eine Übersicht zu einigen Verteilungsfunktion in R\n",
    "- `pbinom(x,n,p)` Binomialverteilung mit Parametern $n$ und $p$\n",
    "- `pgeom(x,p)` Geometrische-Verteilung mit Parameter $p$\n",
    "- `phyper(x,m,n,k)` Hypergeometrische-Verteilung\n",
    "- `ppois(x,lambda)` Poisson($\\lambda$)-Verteilung\n",
    "- `punif(x,a,b)` Gleichverteilung auf $(a,b)$\n",
    "- `pexp(x,rate)` Exponentialverteilung\n",
    "- `pnorm(x,mean,sd)` Normalverteilung\n",
    "\n",
    "Ersetzt man das `p` in diesen Befehlen durch ein `d`,\n",
    "  oder ein `q`, so erhält man die Dichte oder das\n",
    "  Quantil der entsprechenden Verteilung."
   ]
  },
  {
   "cell_type": "code",
   "execution_count": null,
   "id": "painful-revision",
   "metadata": {},
   "outputs": [],
   "source": [
    "x <- seq(-4,4, by=0.1)\n",
    "plot(x, dnorm(x), type=\"l\")"
   ]
  },
  {
   "cell_type": "code",
   "execution_count": null,
   "id": "addressed-generic",
   "metadata": {},
   "outputs": [],
   "source": [
    "pnorm(-2)\n",
    "pnorm(2) + pnorm(-2)\n",
    "dnorm(0)\n",
    "dnorm(2)\n",
    "pnorm(1.96)\n",
    "qnorm(0.25)\n",
    "qnorm(0.99)\n",
    "pnorm(2.326348)"
   ]
  },
  {
   "cell_type": "markdown",
   "id": "qualified-interface",
   "metadata": {},
   "source": [
    "### Zufall\n",
    " Man kann in R auch (Pseudo) Zufallszahlen generieren lassen. Dazu ersetzt man\n",
    "  in den Befehlen für die Verteilungsfunktionen das `p` durch ein\n",
    "  `r`.\n",
    "\n",
    "Der Befehl `rnorm(n, mean=0, sd=1)` erzeugt einen\n",
    "  Vektor mit `n` standardnormalverteilten Einträgen."
   ]
  },
  {
   "cell_type": "code",
   "execution_count": null,
   "id": "employed-carter",
   "metadata": {},
   "outputs": [],
   "source": [
    "rnorm(10)\n",
    "rbinom(10,1,0.5)\n",
    "rbinom(10,10,0.3)"
   ]
  },
  {
   "cell_type": "markdown",
   "id": "specialized-macintosh",
   "metadata": {},
   "source": [
    "Um ein reproduzierbares Ergebnis zu erhalten, können wir vorher mit dem Befehl\n",
    "`set.seed(...)` einen *seed* für den Zufallsgenerator setzen. Das\n",
    "nächste Beispiel erzeugt zum Beispiel auf jedem Computer, zu jeder Zeit dasselbe\n",
    "Ergebnis"
   ]
  },
  {
   "cell_type": "code",
   "execution_count": null,
   "id": "stylish-heather",
   "metadata": {},
   "outputs": [],
   "source": [
    "set.seed(42)\n",
    "rnorm(10)"
   ]
  },
  {
   "cell_type": "markdown",
   "id": "australian-screw",
   "metadata": {},
   "source": [
    "## Skripte und kleine Programme\n",
    "Das Folgende Beispiel zählt die Primzalzwillinge unter den Primzahlen kleiner\n",
    "als 20. \n",
    "\n",
    "**Aufgabe** Wie funktioniert der Code?"
   ]
  },
  {
   "cell_type": "code",
   "execution_count": null,
   "id": "understanding-invite",
   "metadata": {},
   "outputs": [],
   "source": [
    "p <- c(2,3,5,7,11,13,17,19) # Primzahlen < 20\n",
    "p2 <- c(1,p[1:length(p)-1])\n",
    "\n",
    "delta <- p - p2\n",
    "zwillinge <- delta == 2\n",
    "anz_zwillinge <- sum(zwillinge)\n",
    "print(anz_zwillinge)"
   ]
  }
 ],
 "metadata": {
  "kernelspec": {
   "display_name": "R",
   "language": "R",
   "name": "ir"
  },
  "language_info": {
   "codemirror_mode": "r",
   "file_extension": ".r",
   "mimetype": "text/x-r-source",
   "name": "R",
   "pygments_lexer": "r",
   "version": "4.1.1"
  }
 },
 "nbformat": 4,
 "nbformat_minor": 5
}
