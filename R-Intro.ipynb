{
 "cells": [
  {
   "cell_type": "markdown",
   "id": "alpha-drive",
   "metadata": {},
   "source": [
    "# Einführung in R\n",
    "### Grundlagenmodul Stochastik Wintersemester 2021/22\n"
   ]
  },
  {
   "cell_type": "markdown",
   "id": "according-employee",
   "metadata": {},
   "source": [
    "## Was ist R\n",
    "- R ist eine freie Programmiersprache für statistisches Rechnen und statistische Grafiken. Es eignet sich besonders um große Datenmengen zu untersuchen (bzw. mit ihnen zu arbeiten) und die Daten mit Grafiken zu visualisieren.\n",
    "- R ist mittlerweile eines der wichtigsten Statistik-Programme, neben SAS und SPSS.\n",
    "- R basiert auf der Programmiersprache S und ist mit dieser weitgehend kompatibel."
   ]
  },
  {
   "cell_type": "markdown",
   "id": "present-trainer",
   "metadata": {},
   "source": [
    "## Installation\n",
    "- Programmdateien für Windows, Mac und Linux \n",
    "http://cran.cnr.berkeley.edu/\n",
    "- R-Studio für Windows, Mac und Linux https://rstudio.com/products/rstudio/download/#download\n",
    "\n",
    "## Online Versionen ohne Installation\n",
    "- Hier, jupyterhub der Uni\n",
    "- R-Studio Cloud http://rstudio.cloud"
   ]
  },
  {
   "cell_type": "markdown",
   "id": "overall-hamilton",
   "metadata": {},
   "source": [
    "## Verwendung von JupyterHub\n",
    "### Starten der interaktiven R-Konsole\n",
    "- File -> New -> Terminal\n",
    "- R (ENTER)\n",
    "\n",
    "```\n",
    "R version 4.1.1 (2021-08-10) -- \"Kick Things\"\n",
    "Copyright (C) 2021 The R Foundation for Statistical Computing\n",
    "Platform: x86_64-pc-linux-gnu (64-bit)\n",
    "\n",
    "R ist freie Software und kommt OHNE JEGLICHE GARANTIE.\n",
    "Sie sind eingeladen, es unter bestimmten Bedingungen weiter zu verbreiten.\n",
    "Tippen Sie 'license()' or 'licence()' für Details dazu.\n",
    "\n",
    "R ist ein Gemeinschaftsprojekt mit vielen Beitragenden.\n",
    "Tippen Sie 'contributors()' für mehr Information und 'citation()',\n",
    "um zu erfahren, wie R oder R packages in Publikationen zitiert werden können.\n",
    "\n",
    "Tippen Sie 'demo()' für einige Demos, 'help()' für on-line Hilfe, oder\n",
    "'help.start()' für eine HTML Browserschnittstelle zur Hilfe.\n",
    "Tippen Sie 'q()', um R zu verlassen.\n",
    "\n",
    "> \n",
    "```\n",
    "### Verwenden von Notebooks\n",
    "> Jupyter bietet die Möglichkeit, mit Notebooks (wie diesem) zu arbeiten.\n",
    "\n",
    "#### Ein neues Notebook anlegen\n",
    "- Auf der linken Seite sehen Sie eine Liste mit den Dateien, die in Ihrem Benutzerverzeichnis existieren.\n",
    "- Um ein neues Notebook anzulegen, klicken Sie links oben auf die blaue Schaltfläche mit dem **+**.\n",
    "- Wählen Sie dann unter *Notebooks* **R**.\n",
    "\n",
    "#### Mit Notebooks arbeiten\n",
    "- Ein Notebook besteht aus *Zellen*.\n",
    "- Zellen können entweder Code (also R Befehle) oder Text (Markdown) enthalten.\n",
    "- Zellen können innerhalb des Notebooks verschoben werden.\n",
    "- Um den Code in einer Zelle auszuführen, verwenden Sie das \"Play\" Symbol (Dreieck) oder die Tastenkombination `Shift+Enter`\n",
    "- Markdown Zellen (wie diese) werden dann für die Ansicht formatiert (um die Zelle wieder bearbeiten zu können genügt ein Doppelklick in die Zelle).\n",
    "- Code Zellen werden ausgeführt und das Resultat der Berechnung unterhalb der Zelle angezeigt.\n",
    "\n",
    "#### Unten folgt ein Beispiel einer Zelle mit R-Code\n"
   ]
  },
  {
   "cell_type": "code",
   "execution_count": 2,
   "id": "simple-process",
   "metadata": {},
   "outputs": [
    {
     "data": {
      "text/html": [
       "4"
      ],
      "text/latex": [
       "4"
      ],
      "text/markdown": [
       "4"
      ],
      "text/plain": [
       "[1] 4"
      ]
     },
     "metadata": {},
     "output_type": "display_data"
    }
   ],
   "source": [
    "2+2"
   ]
  },
  {
   "cell_type": "markdown",
   "id": "palestinian-transaction",
   "metadata": {},
   "source": [
    "# Verwendung von R\n",
    "Im Wesentlichen werden wir R in dieser Vorlesung als (mächtigen) Taschenrechner verwenden.\n",
    "\n",
    "## Rechnen mit R\n",
    " Die wichtigsten mathematische Rechenoperationen in R sind\n",
    "*   `+ ` Plus\n",
    "*   `- ` Minus\n",
    "*   `* ` Mal\n",
    "*   `/ ` Geteilt\n",
    "*   `^ ` Hoch\n",
    "*   `%%` Modulo (Rest bei ganzzahliger Division)\n",
    "\n",
    "Das Dezimaltrennzeichen ist der Punkt (englische Schreibweise), nicht das Komma!\n",
    "\n",
    "Es gilt Punkt- vor Strichrechnung. Die Rechenreihenfolge kann aber mit runden Klammern beeinflusst werden."
   ]
  },
  {
   "cell_type": "code",
   "execution_count": 7,
   "id": "departmental-mobile",
   "metadata": {},
   "outputs": [
    {
     "data": {
      "text/html": [
       "5"
      ],
      "text/latex": [
       "5"
      ],
      "text/markdown": [
       "5"
      ],
      "text/plain": [
       "[1] 5"
      ]
     },
     "metadata": {},
     "output_type": "display_data"
    },
    {
     "data": {
      "text/html": [
       "-2"
      ],
      "text/latex": [
       "-2"
      ],
      "text/markdown": [
       "-2"
      ],
      "text/plain": [
       "[1] -2"
      ]
     },
     "metadata": {},
     "output_type": "display_data"
    },
    {
     "data": {
      "text/html": [
       "4"
      ],
      "text/latex": [
       "4"
      ],
      "text/markdown": [
       "4"
      ],
      "text/plain": [
       "[1] 4"
      ]
     },
     "metadata": {},
     "output_type": "display_data"
    },
    {
     "data": {
      "text/html": [
       "7"
      ],
      "text/latex": [
       "7"
      ],
      "text/markdown": [
       "7"
      ],
      "text/plain": [
       "[1] 7"
      ]
     },
     "metadata": {},
     "output_type": "display_data"
    },
    {
     "data": {
      "text/html": [
       "10"
      ],
      "text/latex": [
       "10"
      ],
      "text/markdown": [
       "10"
      ],
      "text/plain": [
       "[1] 10"
      ]
     },
     "metadata": {},
     "output_type": "display_data"
    },
    {
     "data": {
      "text/html": [
       "4"
      ],
      "text/latex": [
       "4"
      ],
      "text/markdown": [
       "4"
      ],
      "text/plain": [
       "[1] 4"
      ]
     },
     "metadata": {},
     "output_type": "display_data"
    },
    {
     "data": {
      "text/html": [
       "1.5"
      ],
      "text/latex": [
       "1.5"
      ],
      "text/markdown": [
       "1.5"
      ],
      "text/plain": [
       "[1] 1.5"
      ]
     },
     "metadata": {},
     "output_type": "display_data"
    },
    {
     "data": {
      "text/html": [
       "1"
      ],
      "text/latex": [
       "1"
      ],
      "text/markdown": [
       "1"
      ],
      "text/plain": [
       "[1] 1"
      ]
     },
     "metadata": {},
     "output_type": "display_data"
    }
   ],
   "source": [
    "# Beispiele\n",
    "2+3\n",
    "2+3-7\n",
    "2*2\n",
    "2*2+3\n",
    "2*(2+3)\n",
    "2^2\n",
    "3/2\n",
    "5%%2"
   ]
  },
  {
   "cell_type": "markdown",
   "id": "racial-japanese",
   "metadata": {},
   "source": [
    "## Kommentare in R\n",
    "Innerhalb von Code-Zellen können Kommentare mit einer Raute `#` eingeleitet werden. Alles, was auf `#` folgt, wird von R nicht gelesen und dient nur dazu, den Code zu erklären (zu kommentieren).\n",
    "\n",
    "## Datentypen in R\n",
    "Es gibt in R verschiedene Datentypen, für uns wichtig sind\n",
    "\n",
    "*   Zahlen *numeric* `-1`, `3.14`, `1.224e-6`\n",
    "    - `1.224e-6` steht für die Gleitkommazahl 1,224*10^(-6) = 0,000001224. (Das `e` steht für Exponent)\n",
    "*   Wahrheitswerte *logical* `TRUE`, `T`, `FALSE`, `F`\n",
    "    - Wahrheitswerte können nur die Werte Wahr `TRUE` und Falsch `FALSE` annehmen. Abgekürzt werden diese Werte durch `T` und `F` oder `1` und `0`.\n",
    "    - Aufgabe: Was ist `TRUE + TRUE`?\n",
    "*   Zeichenketten *character* `\"a\"`, `\"X_1\"`\n",
    "    - Zeichenketten stehen immer in Anführungszeichen. Erlaubt sind alle Buchstaben, Zahlen und Sonderzeichen.\n",
    "\n",
    "## Logik-  und Vergleichsoperatoren\n",
    "### Logische Operatoren\n",
    "Logische Operatoren operieren immer auf Wahrheitswerten und liefern einen Wahrheitswert zurück.\n",
    "*  `!` Negation\n",
    "*  `&` Und\n",
    "*  `|` Oder\n",
    "\n",
    "### Vergleichsoperatoren\n",
    "Vergleichsoperatoren können auf verschiedene Datentypen angewendet werden und liefern Wahrheitswerte zurück.\n",
    "*  `==` Gleich\n",
    "*  `!=` Ungleich\n",
    "*  `>`, `<` Größer bzw. Kleiner\n",
    "* `>=`, `<=` Größergleich bzw. Kleinergleich\n",
    "\n",
    "\n",
    "    "
   ]
  },
  {
   "cell_type": "code",
   "execution_count": 16,
   "id": "impressive-circular",
   "metadata": {},
   "outputs": [
    {
     "data": {
      "text/html": [
       "TRUE"
      ],
      "text/latex": [
       "TRUE"
      ],
      "text/markdown": [
       "TRUE"
      ],
      "text/plain": [
       "[1] TRUE"
      ]
     },
     "metadata": {},
     "output_type": "display_data"
    },
    {
     "data": {
      "text/html": [
       "FALSE"
      ],
      "text/latex": [
       "FALSE"
      ],
      "text/markdown": [
       "FALSE"
      ],
      "text/plain": [
       "[1] FALSE"
      ]
     },
     "metadata": {},
     "output_type": "display_data"
    },
    {
     "data": {
      "text/html": [
       "TRUE"
      ],
      "text/latex": [
       "TRUE"
      ],
      "text/markdown": [
       "TRUE"
      ],
      "text/plain": [
       "[1] TRUE"
      ]
     },
     "metadata": {},
     "output_type": "display_data"
    },
    {
     "data": {
      "text/html": [
       "FALSE"
      ],
      "text/latex": [
       "FALSE"
      ],
      "text/markdown": [
       "FALSE"
      ],
      "text/plain": [
       "[1] FALSE"
      ]
     },
     "metadata": {},
     "output_type": "display_data"
    },
    {
     "data": {
      "text/html": [
       "TRUE"
      ],
      "text/latex": [
       "TRUE"
      ],
      "text/markdown": [
       "TRUE"
      ],
      "text/plain": [
       "[1] TRUE"
      ]
     },
     "metadata": {},
     "output_type": "display_data"
    },
    {
     "data": {
      "text/html": [
       "TRUE"
      ],
      "text/latex": [
       "TRUE"
      ],
      "text/markdown": [
       "TRUE"
      ],
      "text/plain": [
       "[1] TRUE"
      ]
     },
     "metadata": {},
     "output_type": "display_data"
    },
    {
     "data": {
      "text/html": [
       "FALSE"
      ],
      "text/latex": [
       "FALSE"
      ],
      "text/markdown": [
       "FALSE"
      ],
      "text/plain": [
       "[1] FALSE"
      ]
     },
     "metadata": {},
     "output_type": "display_data"
    },
    {
     "data": {
      "text/html": [
       "FALSE"
      ],
      "text/latex": [
       "FALSE"
      ],
      "text/markdown": [
       "FALSE"
      ],
      "text/plain": [
       "[1] FALSE"
      ]
     },
     "metadata": {},
     "output_type": "display_data"
    }
   ],
   "source": [
    "T|F\n",
    "T&F\n",
    "!F\n",
    "!(T|F)\n",
    "2 <= 4\n",
    "2 <= 2\n",
    "2 < 2\n",
    "(5%%2) == 0"
   ]
  },
  {
   "cell_type": "code",
   "execution_count": null,
   "id": "conscious-mexico",
   "metadata": {},
   "outputs": [],
   "source": []
  }
 ],
 "metadata": {
  "kernelspec": {
   "display_name": "R",
   "language": "R",
   "name": "ir"
  },
  "language_info": {
   "codemirror_mode": "r",
   "file_extension": ".r",
   "mimetype": "text/x-r-source",
   "name": "R",
   "pygments_lexer": "r",
   "version": "4.1.1"
  }
 },
 "nbformat": 4,
 "nbformat_minor": 5
}
