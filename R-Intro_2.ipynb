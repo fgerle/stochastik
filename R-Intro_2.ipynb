{
 "cells": [
  {
   "cell_type": "markdown",
   "id": "following-imaging",
   "metadata": {
    "tags": []
   },
   "source": [
    "# Einführung in R - Teil II\n",
    "### Grundlagenmodul Stochastik Wintersemester 2021/22\n",
    "\n",
    "## Programmieren in R\n"
   ]
  },
  {
   "cell_type": "markdown",
   "id": "breeding-prospect",
   "metadata": {},
   "source": [
    "## Was sind Funktionen\n",
    "- haben bereits einige Funktionen kennengelernt, z.B. `sum(x)`, `factorial(x)`, `sqrt(x)`, `choose(n,k)`, `plot(x,y,col=\"blue\")`, etc.\n",
    "- Manchmal kann es hilfreich sein, eine häufig verwendete Abfolge von Befehlen in ein Funktion zu schachteln.\n",
    "  - spart Schreibarbeit\n",
    "  - übersichtlicherer/kürzerer Code\n",
    "  \n",
    "### Beispiel: Einfache symmetrische Irrfahrt der Länge $N$\n"
   ]
  },
  {
   "cell_type": "code",
   "execution_count": null,
   "id": "different-violation",
   "metadata": {},
   "outputs": [],
   "source": [
    "Irrfahrt <- function(N){\n",
    "  # Erzeuge N Münzwurfe mit Werten 1/-1\n",
    "  # Eine Möglichkeit: benutze Binomial mit n=1, p=1/2\n",
    "  Y <- -(1-2*rbinom(N,1,1/2))\n",
    "\n",
    "  # Berechne die Irrfahrt, durch Summieren der ersten n Schritte\n",
    "  I <- cumsum(Y)\n",
    "  \n",
    "  # Wir wollen, dass der Startwert der Irrfahrt 0 ist:\n",
    "  I <- c(0,I)\n",
    "  \n",
    "  # Gebe das Resultat zurück\n",
    "  return(I)\n",
    "}\n",
    "\n",
    "print(Irrfahrt(10)) # Beispiel\n"
   ]
  },
  {
   "cell_type": "markdown",
   "id": "formal-habitat",
   "metadata": {},
   "source": [
    "## Funktionen definieren\n",
    "### Allgemeine Struktur\n",
    "```\n",
    "name <- function(arg1, arg2, arg3=val, ...) {  # Funktionskopf\n",
    "  # Funktionsdefinition                        # Funktionskörper\n",
    "  ...\n",
    "  ...\n",
    "  return(Ergebnis)\n",
    "}\n",
    "```\n",
    "- Der Name `name` kann jeder gültige Variablenname sein.\n",
    "- Zuweisungsoperator `<-`, um Funktion in Variable `name` zu speichern.\n",
    "- Die Argumente `arg1`, `arg2`, `arg3`,... sind ebenfalls gültige Variablennamen.\n",
    "- Den Argumenten können Standardwerte zugewiesen werden `arg3=val`.\n",
    "- Argumente ohne Standardwerte _müssen_ beim Funktionsaufruf übergeben werden!\n",
    "- Auf die Argumente kann dann im Funktionskörper durch ihre Variablennamen zugegriffen werden. Diese Variablen sind _nur_ innerhalb der Funktion definiert.\n",
    "- Im Funktionskörper findet die Berechnung statt. Alle Anweisungen werden der Reihe nach von oben nach unten ausgeführt.\n",
    "- mit der (optionalen) Funktion `return(...)` kann ein Ergebnis zur weiteren Verwendung zurückgegeben werden.\n",
    "  - Beachte: Nach einem `return`-statement wird der Funktionskörper nicht mehr weiter ausgeführt."
   ]
  },
  {
   "cell_type": "markdown",
   "id": "norman-software",
   "metadata": {},
   "source": [
    "### Beispiel einfache aber nicht notwendigerweise symmetrische Irrfahrt der Länge $N$"
   ]
  },
  {
   "cell_type": "code",
   "execution_count": null,
   "id": "celtic-talent",
   "metadata": {},
   "outputs": [],
   "source": [
    "Irrfahrt <- function(N, p=1/2) {\n",
    "  # ähnlich dem ersten Beispiel aber diesmal\n",
    "  # mit variablem p\n",
    "  Y <- -(1-2*rbinom(N,1,p))\n",
    "\n",
    "  # Der Rest wie oben\n",
    "  I <- cumsum(Y)\n",
    "  I <- c(0,I)\n",
    "  return(I)\n",
    "}\n",
    "\n",
    "print(Irrfahrt(20))\n",
    "print(Irrfahrt(20, 0.6))\n",
    "print(Irrfahrt(20, 0.4))\n"
   ]
  },
  {
   "cell_type": "markdown",
   "id": "seven-syntax",
   "metadata": {},
   "source": [
    "## Bedingte Ausführung mit `if`\n",
    "\n",
    "- Manchmal ist es nötig, Teile des Codes nur unter bestimmten Bedingungen auszuführen.\n",
    "- Dazu dienen `if ...`-Anweisungen\n",
    "\n",
    "allgemeine Struktur\n",
    "```\n",
    "if (BEDINGUNG) {\n",
    "  ...           # Wird ausgeführt, wenn BEDINGUNG == TRUE\n",
    "}\n",
    "```\n",
    "- `BEDINGUNG` ist eine Abfrage/Funktion, die einen Wahrheitswert `TRUE` oder `FALSE` liefert\n",
    "\n",
    "### Beispiel\n",
    "Simuliere eine $\\{-1,1\\}$ wertige Zufallsvariable mit Hilfe einer $\\{0,1\\}$ wertigen"
   ]
  },
  {
   "cell_type": "code",
   "execution_count": null,
   "id": "artificial-qualification",
   "metadata": {},
   "outputs": [],
   "source": [
    "Muenze <- rbinom(1,1,1/2)\n",
    "if (Muenze==0) {\n",
    "  Muenze <- -1\n",
    "}\n",
    "print(Muenze)"
   ]
  },
  {
   "cell_type": "markdown",
   "id": "spanish-justice",
   "metadata": {},
   "source": [
    "## Bedingte Ausführung mit `if ... else ... `\n",
    "\n",
    "allgemeine Struktur\n",
    "```\n",
    "if (BEDINGUNG) { \n",
    "  ...             # Wird ausgeführt, wenn BEDINGUNG == TRUE \n",
    "} else {          # sonst...  \n",
    "  ...             # Wird ausgeführt, wenn BEDINGUNG == FALSE \n",
    "}\n",
    "```\n",
    "- lässt sich auch mit zwei nacheinander ausgeführten `if`-Abfragen realisieren. Die Verwendung von `else` ist jedoch\n",
    "      eleganter und vor allem effizienter; Der Ausdruck `BEDINGUNG` muss nur einmal ausgewertet werden!\n",
    "\n",
    "### Beispiel"
   ]
  },
  {
   "cell_type": "code",
   "execution_count": null,
   "id": "forced-parking",
   "metadata": {},
   "outputs": [],
   "source": [
    "Muenze <- rbinom(1,1,1/2)\n",
    "\n",
    "if (Muenze==0) {\n",
    "  print(\"Kopf\")\n",
    "} else {\n",
    "  print(\"Zahl\")\n",
    "}"
   ]
  },
  {
   "cell_type": "markdown",
   "id": "western-zoning",
   "metadata": {},
   "source": [
    "- Soll nur ein Wert ausgegeben werden, wenn eine bestimmte Bedingung erfüllt ist, kann auch die Funktion `ifelse(test, yes, no)` verwendet werden:"
   ]
  },
  {
   "cell_type": "code",
   "execution_count": null,
   "id": "national-request",
   "metadata": {},
   "outputs": [],
   "source": [
    "Muenze <- rbinom(3, 1, 1/2)\n",
    "print(ifelse(Muenze==0, \"Kopf\", \"Zahl\"))"
   ]
  },
  {
   "cell_type": "markdown",
   "id": "metropolitan-valley",
   "metadata": {},
   "source": [
    "### Beispiel\n",
    "Brückenwege einer einfachen symmetrischen Irrfahrt\n",
    "- Ein Brückenweg ist ein Pfad der Länge $2N$, der in 0 startet und wieder in 0 endet."
   ]
  },
  {
   "cell_type": "code",
   "execution_count": null,
   "id": "authorized-mumbai",
   "metadata": {},
   "outputs": [],
   "source": [
    "Bruecke <- function(N) {\n",
    "  # Generiere eine Irrfahrt der Länge 2N\n",
    "  # Mit der Funktion aus dem letzten Beispiel\n",
    "  I <- Irrfahrt(2*N)\n",
    "\n",
    "  if (I[length(I)]==0) { # Ist Endpunkt ==0?\n",
    "    return(I)            # Wenn ja, Gib Irrfahrt zurück\n",
    "  } else {               # Sonst ...\n",
    "    Bruecke(N)           # ... führe die Funkion noch einmal aus\n",
    "  }\n",
    "}\n",
    "\n",
    "print(Bruecke(10))"
   ]
  },
  {
   "cell_type": "markdown",
   "id": "accomplished-floor",
   "metadata": {},
   "source": [
    "**Beachte** Diese Definition von `Bruecke` ist _rekursiv_, das heißt, sie verwendet sich selbst. Das ist in der Regel kein Problem, aber Vorsicht vor potentiell unendlichen Rekursionen!"
   ]
  },
  {
   "cell_type": "markdown",
   "id": "lesbian-administrator",
   "metadata": {},
   "source": [
    "## Geschachtelte Bedingungen: `else if`\n",
    "\n",
    "Die `else`-Anweisung kann auch mit einer weiteren `if`-Abfrage kombiniert werden:\n",
    "```\n",
    "if (BEDINGUNG1) {\n",
    "  ...\n",
    "} else if (BEDINGUNG2) {\n",
    "  ...\n",
    "} else if (BEDINGUNG3) {\n",
    "  ...\n",
    "} else if ...\n",
    "```\n",
    "- Verwendung von `else if` ist effektiver als die hintereinander Reihung von `if`-Abfragen, da die einzelnen\n",
    "      Bedingungen nur ausgewertet werden müssen, bis zum ersten Mal eine Bedingung `TRUE` ist.\n",
    "    \n",
    "### Beispiel"
   ]
  },
  {
   "cell_type": "code",
   "execution_count": null,
   "id": "ambient-frederick",
   "metadata": {},
   "outputs": [],
   "source": [
    "Los <- sample(1000,1)\n",
    "if (Los %% 2 == 1) {\n",
    "  print(\"Trostpreis\")\n",
    "} else if (Los %% 100 == 0) {\n",
    "  print(\"Hauptgewinn\")\n",
    "} else {\n",
    "  print(\"Niete\")\n",
    "} "
   ]
  },
  {
   "cell_type": "markdown",
   "id": "boring-poetry",
   "metadata": {},
   "source": [
    "## Schleifen\n",
    "\n",
    "Schleifen (engl. _loops_) sind nützlich, wenn gleiche bzw. ähnliche Anweisungen mehrmals hintereinander ausgeführt werden sollen,\n",
    "    z.B. für alle Elemente eines Vektors.\n",
    "    \n",
    "- Zwei Arten von Schleifen in **R**: `for` und `while`\n",
    "\n",
    "### die `for`-Schleife\n",
    "    \n",
    "- `for`-Schleifen iterieren durch die einzelnen Elemente eines Vektors:\n",
    "\n",
    "```\n",
    "for (var in V) {\n",
    "  ...\n",
    "}\n",
    "```\n",
    "\n",
    "  - Anweisungen in der Schleife werden der Reihe nach abgearbeitet\n",
    "  - der Wert der Variablen `var` ändert sich in jedem Durchlauf und kann innerhalb der Schleife (und nur dort) verwendet werden. \n",
    "  \n",
    "### die `while` Schleife\n",
    "- `while`-Schleifen werden so lange wiederholt, wie eine Bedingung `TRUE` ist:\n",
    "\n",
    "```\n",
    "while (BEDINGUNG) {\n",
    "  ...\n",
    "}\n",
    "```\n",
    "\n",
    "  - Anweisungen in der Schleife werden der Reihe nach abgearbeitet\n",
    "  - Vor jedem Schleifendurchlauf wird `BEDINGUNG` geprüft.\n",
    "  - Gefahr von unendlichen Schleifen ( `while (TRUE) {}`).\n",
    "  "
   ]
  },
  {
   "cell_type": "markdown",
   "id": "universal-juice",
   "metadata": {},
   "source": [
    "###  Beispiel: Erweiterung des Los-Beispiels von Oben mit einer `for` Schleife"
   ]
  },
  {
   "cell_type": "code",
   "execution_count": null,
   "id": "grand-chancellor",
   "metadata": {},
   "outputs": [],
   "source": [
    "Lose <- sample (1000 ,100)\n",
    "Gewinn <- NULL  # Initialisieren des Ergebnisses\n",
    "for (Los in Lose){\n",
    "  # Für jedes Los aus dem Vektor \"Lose\", speichere die jeweilige\n",
    "  # Bezeichnung (\"Hauptgewinn\", \"Trostpreis\", \"Niete\") im Vektor\n",
    "  # \"Gewinn\"\n",
    "  if ( Los %% 2 == 1) {\n",
    "    Gewinn <- c(Gewinn, \"Trostpreis\")\n",
    "  } else if ( Los %% 100 == 0) {\n",
    "    Gewinn <- c(Gewinn ,\"Hauptgewinn\")\n",
    "  } else {\n",
    "    Gewinn <- c(Gewinn ,\"Niete\")\n",
    "  }\n",
    "}\n",
    "print(Gewinn)"
   ]
  },
  {
   "cell_type": "markdown",
   "id": "interesting-creator",
   "metadata": {},
   "source": [
    "### Beispiel: Brückenweg (s.o.) mit einer `while`-Schleife"
   ]
  },
  {
   "cell_type": "code",
   "execution_count": null,
   "id": "fourth-velvet",
   "metadata": {},
   "outputs": [],
   "source": [
    "N <- 50\n",
    "Brueckenweg <- Irrfahrt(2*N)\n",
    "while (Brueckenweg[length(Brueckenweg)] != 0) {\n",
    "  # So lange die generierte Irrfahrt kein Brückenweg ist,\n",
    "  # erzeuge eine neue Irrfahrt\n",
    "  Brueckenweg <- Irrfahrt(2*N)\n",
    "}\n",
    "print(Brueckenweg)"
   ]
  },
  {
   "cell_type": "markdown",
   "id": "buried-gnome",
   "metadata": {},
   "source": [
    "## Kontrolle in Schleifen: `break` und `next`\n",
    "\n",
    "Innerhalb einer Schleife kann mit den Befehlen `break` und `next` Kontrolle über die Schleife ausgeübt werden.\n",
    "\n",
    "- Der Befehl `break` beendet die Schleife sofort und es wird der nächste Befehl nach der Schleife ausgeführt.\n",
    "- Der Befehl `next` beendet den aktuellen Schleifendurchlauf und setzt die Ausführung mit dem nächsten Schleifendurchlauf fort.\n",
    "\n",
    "Beide Befehle werden üblicherweise mit einer `if`-Abfrage kombiniert:\n",
    "\n",
    "### Beispiel 1 `next`"
   ]
  },
  {
   "cell_type": "code",
   "execution_count": null,
   "id": "eleven-seller",
   "metadata": {},
   "outputs": [],
   "source": [
    "for ( i in 1:10 ) {\n",
    "  if (i %% 2 == 0) {\n",
    "    next\n",
    "  }\n",
    "  print(i)\n",
    "}"
   ]
  },
  {
   "cell_type": "markdown",
   "id": "convertible-japanese",
   "metadata": {},
   "source": [
    "### Beispiel 2 `break`"
   ]
  },
  {
   "cell_type": "code",
   "execution_count": null,
   "id": "pressed-munich",
   "metadata": {},
   "outputs": [],
   "source": [
    "while (TRUE) {\n",
    "  Wuerfel <- sample(6,1)\n",
    "  print(Wuerfel)\n",
    "  if (Wuerfel == 6) {\n",
    "    break\n",
    "  }\n",
    "}"
   ]
  },
  {
   "cell_type": "markdown",
   "id": "shared-cookie",
   "metadata": {},
   "source": [
    "\n",
    "- Natürlich kann auch `next` in einer `while`-Schleife und `break` in einer `for`-Schleife verwendet werden.\n",
    "- Wird in einer Funktion eine Schleife verwendet und innerhalb der Schleife wird ein `return(...)` ausgeführt, so wird auch die Schleife sofort beendet."
   ]
  },
  {
   "cell_type": "markdown",
   "id": "derived-boxing",
   "metadata": {},
   "source": [
    "### Beispiel Einfacher (aber ineffizienter) Primzahltest"
   ]
  },
  {
   "cell_type": "code",
   "execution_count": null,
   "id": "liked-scratch",
   "metadata": {},
   "outputs": [],
   "source": [
    "is.prime <- function(n){\n",
    "  # Teste, ob n eine ganze Zahl >1 ist:\n",
    "  if ((round(n)-n != 0) | (n<2)) {\n",
    "    # Falls nein, beende Ausführung und gib\n",
    "    # NA (not available) zurück\n",
    "    return(NA)\n",
    "  }\n",
    "  # Falls n == 2, gib 'TRUE' zurück\n",
    "  if (n == 2) return(TRUE)\n",
    "  prime <- TRUE  # initialisiere die Ergebnisvariable\n",
    "  # Teste ob irgendeine Zahl kleiner als n\n",
    "  # ein Teiler von n ist.\n",
    "  for (i in 2:(n-1)) {\n",
    "    if (n %% i == 0) {\n",
    "      # Wenn i teilt n, setze prime auf FALSE und breche\n",
    "      # die Schleife ab\n",
    "      prime <- FALSE\n",
    "      break\n",
    "    }\n",
    "  }\n",
    "  # Liefere den Wert von \"prime\" als Ergebnis zurück\n",
    "  return(prime)\n",
    "}\n",
    "is.prime(3)\n",
    "is.prime(215164869)"
   ]
  },
  {
   "cell_type": "markdown",
   "id": "saving-pound",
   "metadata": {},
   "source": [
    "## Funktionen auf Vektoren anwenden: Die Funktion `sapply`\n",
    "- Einige Funktionen (z.B. `is.prime` aus dem letzten Beispiel) lassen sich nicht auf Vektoren anwenden.\n",
    "- Die Funktion `sapply(X, FUN)` wendet die Funktion `FUN` auf die einzelnen Komponenten von `X` an und liefert einen Vektor als Ergebnis.\n",
    "\n",
    "### Beispiel"
   ]
  },
  {
   "cell_type": "code",
   "execution_count": null,
   "id": "considerable-apple",
   "metadata": {},
   "outputs": [],
   "source": [
    "Num <- 1:100\n",
    "primes <- sapply(Num , is.prime)\n",
    "print(Num[primes])"
   ]
  }
 ],
 "metadata": {
  "kernelspec": {
   "display_name": "R",
   "language": "R",
   "name": "ir"
  },
  "language_info": {
   "codemirror_mode": "r",
   "file_extension": ".r",
   "mimetype": "text/x-r-source",
   "name": "R",
   "pygments_lexer": "r",
   "version": "4.1.1"
  }
 },
 "nbformat": 4,
 "nbformat_minor": 5
}
