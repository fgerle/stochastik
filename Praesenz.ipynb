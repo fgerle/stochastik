{
 "cells": [
  {
   "cell_type": "markdown",
   "id": "developing-percentage",
   "metadata": {},
   "source": [
    "# Präsenzaufgaben\n",
    "Code zu den Präsenzaufgaben"
   ]
  },
  {
   "cell_type": "markdown",
   "id": "requested-vintage",
   "metadata": {},
   "source": [
    "## Woche 01\n",
    "### Aufgabe 1"
   ]
  },
  {
   "cell_type": "code",
   "execution_count": null,
   "id": "criminal-aberdeen",
   "metadata": {},
   "outputs": [],
   "source": [
    "A1 <- c(2,3,5,7,11,13,17,19)\n",
    "A2 <- 1:8\n",
    "A3 <- seq(from = 10, by = 3, length.out = 8)\n",
    "A4 <- rep(66,8)\n",
    "\n",
    "B1 <- A1 <= 11\n",
    "B2 <- (A2 %% 2) == 0\n",
    "B3 <- (A4 %% A1) == 0\n",
    "B4 <- (A1 - A2) >= 10\n",
    "\n",
    "C1 <- sum(B1)\n",
    "C2 <- sum(!B2)\n",
    "C3 <- sum(B3)\n",
    "C4 <- sum(B4)"
   ]
  },
  {
   "cell_type": "markdown",
   "id": "peripheral-czech",
   "metadata": {},
   "source": [
    "Gib die Ausgaben folgender print() statements an und beschreibe kurz\n",
    "die Bedeutung des Ergebnisses"
   ]
  },
  {
   "cell_type": "code",
   "execution_count": null,
   "id": "impaired-profile",
   "metadata": {},
   "outputs": [],
   "source": [
    "# a)\n",
    "print(A1[3])\n",
    "# b)\n",
    "print(A2[c(1,3,7)])\n",
    "# c)\n",
    "print(A2[c(T,F,T,F,F,F,T,F)])\n",
    "# d)\n",
    "print(A2[B2])\n",
    "# e)\n",
    "print(C1)\n",
    "# f)\n",
    "print(C2)\n",
    "# g)\n",
    "print(C3)\n",
    "# h)\n",
    "print(C4)\n",
    "# i)\n",
    "print(A1[B3])\n"
   ]
  },
  {
   "cell_type": "markdown",
   "id": "pediatric-instrument",
   "metadata": {},
   "source": [
    "Überlege auch, was die einzelnen Ausgaben bedeuten!"
   ]
  },
  {
   "cell_type": "markdown",
   "id": "inner-shakespeare",
   "metadata": {
    "tags": []
   },
   "source": [
    "### Aufgabe 2"
   ]
  },
  {
   "cell_type": "code",
   "execution_count": null,
   "id": "american-moral",
   "metadata": {},
   "outputs": [],
   "source": [
    "S1 <- sample(1:10, 10, replace=FALSE)\n",
    "S2 <- sample(1:10, 10000, replace=TRUE)\n",
    "S3 <- sample(c(\"rot\", \"gruen\", \"blau\"), 10000, replace=TRUE,\n",
    "             prob=c(1/2, 1/4, 1/4))\n",
    "\n",
    "C2 <- sum(S2<=5)/length(S2)\n",
    "C3 <- sum(S3==\"gruen\")/length(S3)\n",
    "M <- sum(S2)/length(S2)"
   ]
  },
  {
   "cell_type": "markdown",
   "id": "scientific-adolescent",
   "metadata": {},
   "source": [
    "Was geben die folgenden print() Befehle aus?"
   ]
  },
  {
   "cell_type": "code",
   "execution_count": null,
   "id": "elect-capture",
   "metadata": {},
   "outputs": [],
   "source": [
    "# a)\n",
    "print(S1)\n",
    "# b)\n",
    "print(C2)\n",
    "# c)\n",
    "print(C3)\n",
    "# d)\n",
    "print(M)\n",
    "# e)\n",
    "print(mean(S2))"
   ]
  },
  {
   "cell_type": "markdown",
   "id": "enormous-detective",
   "metadata": {},
   "source": [
    "Was bedeuten die Ausgaben? Ändere den Code. Was geschieht, wenn bei `S2` `replace=FALSE` gesetzt wird? Was ändert sich bei kleineren bzw. größeren Stichproben?"
   ]
  },
  {
   "cell_type": "markdown",
   "id": "humanitarian-simulation",
   "metadata": {},
   "source": [
    "## Woche 02"
   ]
  },
  {
   "cell_type": "code",
   "execution_count": null,
   "id": "inner-upgrade",
   "metadata": {},
   "outputs": [],
   "source": [
    "N <- 10:99\n",
    "Z1 <- N%%10\n",
    "Z2 <- (N-Z1)/10\n",
    "QS <- Z1+Z2\n",
    "\n",
    "# (i) Was geben folgende Befehle aus?\n",
    "print(N[QS%%9 == 0])\n",
    "print(N[Z1 > Z2])\n",
    "\n",
    "# (ii) Wie lauten die genauen Resultate dieser Befehle?\n",
    "print(sum(QS%%9 == 0))\n",
    "print(sum(Z1 > Z2))"
   ]
  },
  {
   "cell_type": "markdown",
   "id": "jewish-olive",
   "metadata": {},
   "source": [
    "## Woche 03"
   ]
  },
  {
   "cell_type": "code",
   "execution_count": null,
   "id": "armed-restaurant",
   "metadata": {},
   "outputs": [],
   "source": [
    "### (a) Welches Zufallsexperiment wird hier simuliert?\n",
    "N <- 1e5\n",
    "\n",
    "Urne_1 <- c(\"r\", \"r\", \"r\", \"r\", \"r\", \"b\", \"b\")\n",
    "Urne_2 <- c(\"r\", \"r\", \"b\", \"b\", \"b\")\n",
    "\n",
    "Urne_1_bool <- Urne_1 == \"r\"\n",
    "Urne_2_bool <- Urne_2 == \"r\"\n",
    "\n",
    "Muenze <- rbinom(N, 1, 1/2)\n",
    "Kopf <- Muenze==1\n",
    "Zahl <- Muenze==0\n",
    "\n",
    "Ziehung_U1 <- sample(Urne_1_bool, N, replace = T)\n",
    "Ziehung_U2 <- sample(Urne_2_bool, N, replace = T)\n",
    "Ziehung <- Ziehung_U1*Kopf + Ziehung_U2*(Zahl)\n",
    "\n",
    "### (b) Welche Ergebnisse liefern folgende Befehle?\n",
    "h_rot_wenn_1 <- sum(Ziehung[Kopf])/sum(Kopf)\n",
    "h_rot_wenn_2 <- sum(Ziehung[Zahl])/sum(Zahl)\n",
    "h_rot <- sum(Ziehung)/N\n",
    "h_1_wenn_rot <- sum(Kopf[Ziehung==1])/sum(Ziehung)\n",
    "\n",
    "print(h_rot_wenn_1)\n",
    "print(h_rot_wenn_2)\n",
    "print(h_rot)\n",
    "print(h_1_wenn_rot)"
   ]
  },
  {
   "cell_type": "code",
   "execution_count": null,
   "id": "placed-helena",
   "metadata": {},
   "outputs": [],
   "source": []
  }
 ],
 "metadata": {
  "kernelspec": {
   "display_name": "R",
   "language": "R",
   "name": "ir"
  },
  "language_info": {
   "codemirror_mode": "r",
   "file_extension": ".r",
   "mimetype": "text/x-r-source",
   "name": "R",
   "pygments_lexer": "r",
   "version": "4.1.1"
  }
 },
 "nbformat": 4,
 "nbformat_minor": 5
}
