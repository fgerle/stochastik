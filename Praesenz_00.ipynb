{
 "cells": [
  {
   "cell_type": "markdown",
   "id": "finished-truth",
   "metadata": {},
   "source": [
    "# Präsenzaufgaben\n",
    "Code zu den Präsenzaufgaben"
   ]
  },
  {
   "cell_type": "markdown",
   "id": "judicial-member",
   "metadata": {},
   "source": [
    "## Aufgabe 1"
   ]
  },
  {
   "cell_type": "code",
   "execution_count": null,
   "id": "arranged-dimension",
   "metadata": {},
   "outputs": [],
   "source": [
    "A1 <- c(2,3,5,7,11,13,17,19)\n",
    "A2 <- 1:8\n",
    "A3 <- seq(from = 10, by = 3, length.out = 8)\n",
    "A4 <- rep(66,8)\n",
    "\n",
    "B1 <- A1 <= 11\n",
    "B2 <- (A2 %% 2) == 0\n",
    "B3 <- (A4 %% A1) == 0\n",
    "B4 <- (A1 - A2) >= 10\n",
    "\n",
    "C1 <- sum(B1)\n",
    "C2 <- sum(!B2)\n",
    "C3 <- sum(B3)\n",
    "C4 <- sum(B4)"
   ]
  },
  {
   "cell_type": "markdown",
   "id": "affected-brook",
   "metadata": {},
   "source": [
    "Gib die Ausgaben folgender print() statements an und beschreibe kurz\n",
    "die Bedeutung des Ergebnisses"
   ]
  },
  {
   "cell_type": "code",
   "execution_count": null,
   "id": "becoming-japan",
   "metadata": {},
   "outputs": [],
   "source": [
    "# a)\n",
    "print(A1[3])\n",
    "# b)\n",
    "print(A2[c(1,3,7)])\n",
    "# c)\n",
    "print(A2[c(T,F,T,F,F,F,T,F)])\n",
    "# d)\n",
    "print(A2[B2])\n",
    "# e)\n",
    "print(C1)\n",
    "# f)\n",
    "print(C2)\n",
    "# g)\n",
    "print(C3)\n",
    "# h)\n",
    "print(C4)\n",
    "# i)\n",
    "print(A1[B3])\n"
   ]
  },
  {
   "cell_type": "markdown",
   "id": "ae1a6ece-918e-4951-b20a-4f27d6cfa6b7",
   "metadata": {},
   "source": [
    "Überlege auch, was die einzelnen Ausgaben bedeuten!"
   ]
  },
  {
   "cell_type": "markdown",
   "id": "current-booking",
   "metadata": {
    "tags": []
   },
   "source": [
    "## Aufgabe 2"
   ]
  },
  {
   "cell_type": "code",
   "execution_count": null,
   "id": "mexican-collection",
   "metadata": {},
   "outputs": [],
   "source": [
    "S1 <- sample(1:10, 10, replace=FALSE)\n",
    "S2 <- sample(1:10, 10000, replace=TRUE)\n",
    "S3 <- sample(c(\"rot\", \"gruen\", \"blau\"), 10000, replace=TRUE,\n",
    "             prob=c(1/2, 1/4, 1/4))\n",
    "\n",
    "C2 <- sum(S2<=5)/length(S2)\n",
    "C3 <- sum(S3==\"gruen\")/length(S3)\n",
    "M <- sum(S2)/length(S2)"
   ]
  },
  {
   "cell_type": "markdown",
   "id": "instrumental-slave",
   "metadata": {},
   "source": [
    "Was geben die folgenden print() Befehle aus?"
   ]
  },
  {
   "cell_type": "code",
   "execution_count": null,
   "id": "governmental-queue",
   "metadata": {},
   "outputs": [],
   "source": [
    "# a)\n",
    "print(S1)\n",
    "# b)\n",
    "print(C2)\n",
    "# c)\n",
    "print(C3)\n",
    "# d)\n",
    "print(M)\n",
    "# e)\n",
    "print(mean(S2))"
   ]
  },
  {
   "cell_type": "markdown",
   "id": "d34cb849-3ad2-468f-9847-b1c1b439ad5e",
   "metadata": {},
   "source": [
    "Was bedeuten die Ausgaben? Ändere Sie den Code. Was geschieht, wenn bei `S2` `replace=FALSE` gesetzt wird? Was ändert sich bei kleineren bzw. größeren Stichproben?"
   ]
  }
 ],
 "metadata": {
  "kernelspec": {
   "display_name": "R",
   "language": "R",
   "name": "ir"
  },
  "language_info": {
   "codemirror_mode": "r",
   "file_extension": ".r",
   "mimetype": "text/x-r-source",
   "name": "R",
   "pygments_lexer": "r",
   "version": "4.1.1"
  }
 },
 "nbformat": 4,
 "nbformat_minor": 5
}
