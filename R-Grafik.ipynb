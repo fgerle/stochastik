{
 "cells": [
  {
   "cell_type": "markdown",
   "id": "forbidden-printing",
   "metadata": {},
   "source": [
    "# Erstellen von Grafiken mit R\n",
    "Grundfunktion `plot(x,y)`\n",
    "\n",
    "### Beispiel Normalparabel"
   ]
  },
  {
   "cell_type": "code",
   "execution_count": null,
   "id": "heated-automation",
   "metadata": {},
   "outputs": [],
   "source": [
    "x <- seq(-4,4,by=.1)\n",
    "y <- x^2\n",
    "plot(x,y)"
   ]
  },
  {
   "cell_type": "markdown",
   "id": "fitted-cyprus",
   "metadata": {},
   "source": [
    "## Weitere plots hinzufügen\n",
    "- Mit dem Befehl `points(...)` lassen sich einfach weitere Punkte zu einem bestehenden plot hinzufügen\n",
    "  - Der Aufruf ist ähnlich wie bei `plot(...)`\n",
    "- Mit dem Befehl `abline(...)` lassen sich Geraden einzeichnen\n",
    "  - Parameter `a=...` für y-Achsenabschnitt und `b=...` für die Steigung\n",
    "  - Parameter `h=...` für den y-Achsenabschnitt einer horizontalen Geraden\n",
    "  - Parameter `v=...` für den x-Achsenabschnitt einer vertikalen Geraden\n",
    "- Mit dem Befehl `curve(...)` kann eine Funktion eingezeichnet werden\n",
    "  - Parameter ist eine Funktion von `x`, also z.B. `x^2` oder `sqrt(x)` etc.\n",
    "  - Parameter für die x-Achse: `from=...` und `to=...`\n",
    "  - Soll die Kurve einem bestehenden Plot hinzugefügt werden muss der Parameter `add=TRUE` gesetzt werden\n"
   ]
  },
  {
   "cell_type": "code",
   "execution_count": null,
   "id": "placed-manor",
   "metadata": {},
   "outputs": [],
   "source": [
    "plot(x,y)\n",
    "points(x,x^3, col=\"blue\")\n",
    "abline(a=5, b=1)\n",
    "abline(h=5, col=\"red\")\n",
    "abline(v=2, col=\"green\")\n",
    "curve(exp(x), col = \"gold\", add=TRUE)"
   ]
  },
  {
   "cell_type": "markdown",
   "id": "respective-product",
   "metadata": {},
   "source": [
    "## Anpassen von Plots\n",
    "Das Erscheinungsbild des Plots lässt sich mit folgenden Parametern anpassen\n",
    "- `main=...` Überschrift für den Plot\n",
    "- `sub=...` zweite Überschrift (unter dem Plot)\n",
    "- `xlab=..., ylab=...` Beschriftungen (labels) für die Achsen (standardmäßig die Variablennamen)\n",
    "- `xlim=c(xmin, xmax), ylim=c(ymin, ymax)` Grenzen der Achsen\n",
    "  - standard: `xmin=min(x)`, `xmax=max(x)`, `ymin=min(y)`, `ymax=max(y)`  \n",
    "- `type=...` Art der Punkte (Auszug aus der Hilfe `?plot`)\n",
    "  - \"p\" for points,\n",
    "  - \"l\" for lines,\n",
    "  - \"b\" for both,\n",
    "  - \"c\" for the lines part alone of \"b\",\n",
    "  - \"o\" for both ‘overplotted’,\n",
    "  - \"h\" for ‘histogram’ like (or ‘high-density’) vertical lines,\n",
    "  - \"s\" for stair steps,\n",
    "  - \"S\" for other steps, see ‘Details’ below,\n",
    "  - \"n\" for no plotting.\n",
    "- `lwd=...` (line width) Liniendicke\n",
    "- `col=...` Name der Farbe (alle verfügbaren Farben können mit `colors()` ausgegeben werden (s.u.)\n",
    "  - analog `col.axis`, `col.lab`, `col.main`, `col.sub` für die Farben der Achsen, Beschriftungen, Haupt- und Untertitel\n",
    "- `bty=...` Art der Box, die um den Plot gezeichnet werden soll, symbolisiert durch einen Buchstaben oder Zahl. Auszug aus der Hilfe `?par`\n",
    "  - A character string which determined the type of box which is drawn about plots. If bty is one of \"o\" (the default), \"l\", \"7\", \"c\", \"u\", or \"]\" the resulting box resembles the corresponding upper case letter. A value of \"n\" suppresses the box.\n",
    "- `fg=...` Farbe der Achsen\n",
    "  \n",
    "### Beispiel\n"
   ]
  },
  {
   "cell_type": "code",
   "execution_count": null,
   "id": "conditional-jerusalem",
   "metadata": {},
   "outputs": [],
   "source": [
    "plot(x,y,\n",
    "     main=\"Normalparabel\",\n",
    "     sub=\"ein Beispiel\",\n",
    "     xlab=\"x\",\n",
    "     ylab=expression(x^2),\n",
    "     xlim=c(-6,6),\n",
    "     ylim=c(-1,20),\n",
    "     type=\"l\",\n",
    "     #lty=\"dotted\",\n",
    "     lwd=2,\n",
    "     col=\"blue\",\n",
    "     bty=\"l\",\n",
    "     fg=\"gray\",\n",
    "     col.axis=\"black\",\n",
    "     col.lab=\"black\",\n",
    "     col.main=\"blue\",\n",
    "     col.sub=\"black\"\n",
    "    )\n",
    "points(x, x^3, type=\"l\")"
   ]
  },
  {
   "cell_type": "markdown",
   "id": "blank-amplifier",
   "metadata": {},
   "source": [
    "## Einstellungen für die Ausgabe\n",
    "Sollen mehrere Plots nebeneinander gezeichnet werden, kann man dies über die Grafikparameter `par(...)` einstellen\n",
    "- Ruft man `par()` ohne Parameter auf, werden die aktuellen Grafikparameter angezeigt. Diese können in einer variablen gespeichert werden um Änderungen später rückgängig zu machen.\n",
    "- mit dem Parameter `mfrow=c(r,c)` bzw. `mfcol=c(r,c)` können die Anzahl der Zeilen (`r`) und der Spalten (`c`) der Grafikausgabe eingestellt werden. Mit dem Parameter `mfrow` werden die plots der Reihenweise gezeichnet und mit `mfcol` Spaltenweise.\n",
    "\n",
    "### Beispiel"
   ]
  },
  {
   "cell_type": "code",
   "execution_count": null,
   "id": "forbidden-given",
   "metadata": {},
   "outputs": [],
   "source": [
    "oldpar <- par()\n",
    "par(mfrow=c(2,3))\n",
    "\n",
    "curve(1*x)\n",
    "curve(x^2)\n",
    "curve(x^3)\n",
    "curve(x+x^2+x^3)\n",
    "curve(sqrt(x))\n",
    "curve(log(x))\n"
   ]
  },
  {
   "cell_type": "code",
   "execution_count": null,
   "id": "turned-reliance",
   "metadata": {},
   "outputs": [],
   "source": [
    "par(mfcol=c(2,3))\n",
    "\n",
    "curve(1*x)\n",
    "curve(x^2)\n",
    "curve(x^3)\n",
    "curve(x+x^2+x^3)\n",
    "curve(sqrt(x))\n",
    "curve(log(x))\n",
    "\n",
    "par <- oldpar"
   ]
  },
  {
   "cell_type": "markdown",
   "id": "unexpected-stake",
   "metadata": {},
   "source": [
    "## Statistische Diagramme\n",
    "Als Statistiksoftware lassen sich mit R auch verschiedene Diagramme zeichnen:\n",
    "- Histogramme `hist()`\n",
    "- Tortendiagramme `pie()`\n",
    "- Säulendiagramme `barplot()`\n",
    "- Boxplot `boxplot()`\n",
    "- Mosaikplot `mosaicplot()\n",
    "\n",
    "### Beispiele"
   ]
  },
  {
   "cell_type": "code",
   "execution_count": null,
   "id": "italian-fortune",
   "metadata": {},
   "outputs": [],
   "source": [
    "par(mfrow=c(3,2))\n",
    "hist(beaver1$temp)\n",
    "boxplot(beaver2$temp)\n",
    "mosaicplot(Titanic)\n",
    "barplot(sleep$extra)"
   ]
  },
  {
   "cell_type": "code",
   "execution_count": null,
   "id": "level-portugal",
   "metadata": {},
   "outputs": [],
   "source": [
    "print(colors())"
   ]
  },
  {
   "cell_type": "code",
   "execution_count": null,
   "id": "considerable-electricity",
   "metadata": {},
   "outputs": [],
   "source": []
  }
 ],
 "metadata": {
  "kernelspec": {
   "display_name": "R",
   "language": "R",
   "name": "ir"
  },
  "language_info": {
   "codemirror_mode": "r",
   "file_extension": ".r",
   "mimetype": "text/x-r-source",
   "name": "R",
   "pygments_lexer": "r",
   "version": "4.1.2"
  }
 },
 "nbformat": 4,
 "nbformat_minor": 5
}
